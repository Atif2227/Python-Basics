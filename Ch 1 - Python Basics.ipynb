{
 "cells": [
  {
   "cell_type": "markdown",
   "id": "f030cb12",
   "metadata": {},
   "source": [
    "# Print"
   ]
  },
  {
   "cell_type": "markdown",
   "id": "cc6e0646",
   "metadata": {},
   "source": [
    "#### Print is used to get any thing printed on the console"
   ]
  },
  {
   "cell_type": "markdown",
   "id": "6cbc064b",
   "metadata": {},
   "source": [
    "#### (#) is used to make any comment"
   ]
  },
  {
   "cell_type": "code",
   "execution_count": 1,
   "id": "9299f890",
   "metadata": {},
   "outputs": [
    {
     "name": "stdout",
     "output_type": "stream",
     "text": [
      "Hello World\n"
     ]
    }
   ],
   "source": [
    "#Print Hello World\n",
    "print(\"Hello World\")"
   ]
  },
  {
   "cell_type": "code",
   "execution_count": 2,
   "id": "1287e0bd",
   "metadata": {},
   "outputs": [
    {
     "name": "stdout",
     "output_type": "stream",
     "text": [
      "Hey! I am an upcoming coder\n",
      "I am going to step into world of programming\n"
     ]
    }
   ],
   "source": [
    "print(\"Hey! I am an upcoming coder\")\n",
    "print(\"I am going to step into world of programming\")"
   ]
  },
  {
   "cell_type": "code",
   "execution_count": 3,
   "id": "d8435de1",
   "metadata": {},
   "outputs": [
    {
     "name": "stdout",
     "output_type": "stream",
     "text": [
      "sum of x + y is =  3\n"
     ]
    }
   ],
   "source": [
    "# Print the result of a mathematical operation\n",
    "x = 1\n",
    "y = 2\n",
    "print('sum of x + y is = ', x+y)"
   ]
  },
  {
   "cell_type": "code",
   "execution_count": 4,
   "id": "bf0a05de",
   "metadata": {},
   "outputs": [
    {
     "name": "stdout",
     "output_type": "stream",
     "text": [
      "sum                         of x + y is =  3\n"
     ]
    }
   ],
   "source": [
    "# Addind Space in output. Take the above example.\n",
    "x = 1\n",
    "y = 2\n",
    "print('sum                         of x + y is = ', x+y)"
   ]
  },
  {
   "cell_type": "code",
   "execution_count": 5,
   "id": "ccb9c41c",
   "metadata": {},
   "outputs": [
    {
     "name": "stdout",
     "output_type": "stream",
     "text": [
      "Hello World\n",
      "x\n"
     ]
    }
   ],
   "source": [
    "# the difference between print(x) & print('x')\n",
    "x = \"Hello World\"\n",
    "print (x) #1st - Print the value of x, where x is a variable\n",
    "print ('x') #2nd - Print whatever is within the ''. "
   ]
  },
  {
   "cell_type": "markdown",
   "id": "4e2fcb5a",
   "metadata": {},
   "source": [
    "#### Lets have some fun"
   ]
  },
  {
   "cell_type": "code",
   "execution_count": 6,
   "id": "4086cb80",
   "metadata": {},
   "outputs": [
    {
     "name": "stdout",
     "output_type": "stream",
     "text": [
      "AB\n"
     ]
    }
   ],
   "source": [
    "print(\"A\" + \"B\")"
   ]
  },
  {
   "cell_type": "code",
   "execution_count": 7,
   "id": "73ddc91e",
   "metadata": {},
   "outputs": [
    {
     "name": "stdout",
     "output_type": "stream",
     "text": [
      "PlayPlayPlay\n"
     ]
    }
   ],
   "source": [
    "print ('Play' *3)"
   ]
  },
  {
   "cell_type": "markdown",
   "id": "5fc5483a",
   "metadata": {},
   "source": [
    "# Python Keywords"
   ]
  },
  {
   "cell_type": "markdown",
   "id": "586ee363",
   "metadata": {},
   "source": [
    "### There are few words that are used by the Python language itself. So, we can't use those words for the name of our variables as they are reserved for Python"
   ]
  },
  {
   "cell_type": "markdown",
   "id": "23f36e7b",
   "metadata": {},
   "source": [
    "# Python Identifiers"
   ]
  },
  {
   "cell_type": "markdown",
   "id": "1d336141",
   "metadata": {},
   "source": [
    "#### An identifier is a name we give to entities like variables, functions, classes, etc."
   ]
  },
  {
   "cell_type": "markdown",
   "id": "d18ad456",
   "metadata": {},
   "source": [
    "#### x = 10 here x is an identifier"
   ]
  },
  {
   "cell_type": "markdown",
   "id": "39900656",
   "metadata": {},
   "source": [
    "### Rules for writing Python Identifiers"
   ]
  },
  {
   "cell_type": "markdown",
   "id": "074bfe36",
   "metadata": {},
   "source": [
    "#### 1. Identifiers can be a combination of lowercase (a - z) and uppercase (A - Z) letters, digits (0 - 9) or an underscore (_). Special characters (*, %, #, !, @, $, etc.) cannot be present in identifiers. Eg, Message1, num_max are valid identifiers and num@ is an invalid identifier."
   ]
  },
  {
   "cell_type": "markdown",
   "id": "56174bf7",
   "metadata": {},
   "source": [
    "#### 2. Identifiers cannot start with a digit. Eg, 2num is an invalid identifier."
   ]
  },
  {
   "cell_type": "markdown",
   "id": "680e5ec2",
   "metadata": {},
   "source": [
    "#### 3. In Python, identifier names are case-sensitive, i.e. num and Num will be treated as different identifiers"
   ]
  },
  {
   "cell_type": "markdown",
   "id": "67c31fa2",
   "metadata": {},
   "source": [
    "#### 4. Keywords cannot be used as identifiers. Eg, break is an invalid identifier."
   ]
  }
 ],
 "metadata": {
  "kernelspec": {
   "display_name": "Python 3",
   "language": "python",
   "name": "python3"
  },
  "language_info": {
   "codemirror_mode": {
    "name": "ipython",
    "version": 3
   },
   "file_extension": ".py",
   "mimetype": "text/x-python",
   "name": "python",
   "nbconvert_exporter": "python",
   "pygments_lexer": "ipython3",
   "version": "3.8.8"
  }
 },
 "nbformat": 4,
 "nbformat_minor": 5
}
