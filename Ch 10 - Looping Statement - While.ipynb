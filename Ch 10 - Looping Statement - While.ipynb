{
 "cells": [
  {
   "cell_type": "markdown",
   "id": "dab4d37a",
   "metadata": {},
   "source": [
    "# Looping statements are used to repeat a tusk multiple times"
   ]
  },
  {
   "cell_type": "code",
   "execution_count": 1,
   "id": "e5bd135d",
   "metadata": {},
   "outputs": [
    {
     "ename": "SyntaxError",
     "evalue": "invalid syntax (<ipython-input-1-a70c89489d30>, line 2)",
     "output_type": "error",
     "traceback": [
      "\u001b[1;36m  File \u001b[1;32m\"<ipython-input-1-a70c89489d30>\"\u001b[1;36m, line \u001b[1;32m2\u001b[0m\n\u001b[1;33m    while(condition)\u001b[0m\n\u001b[1;37m                     ^\u001b[0m\n\u001b[1;31mSyntaxError\u001b[0m\u001b[1;31m:\u001b[0m invalid syntax\n"
     ]
    }
   ],
   "source": [
    "# While Loop Syntax - \n",
    "while(condition) \n",
    "    { statement(s); } "
   ]
  },
  {
   "cell_type": "code",
   "execution_count": 2,
   "id": "5e4d398a",
   "metadata": {},
   "outputs": [
    {
     "name": "stdout",
     "output_type": "stream",
     "text": [
      "1\n",
      "2\n",
      "3\n",
      "4\n",
      "5\n",
      "6\n",
      "7\n",
      "8\n",
      "9\n",
      "10\n"
     ]
    }
   ],
   "source": [
    "#Print 1st 10 number\n",
    "i=1\n",
    "while i <= 10:\n",
    "    print(i)\n",
    "    i = i+1\n"
   ]
  },
  {
   "cell_type": "code",
   "execution_count": 3,
   "id": "73189d22",
   "metadata": {},
   "outputs": [
    {
     "name": "stdout",
     "output_type": "stream",
     "text": [
      "2 x 1 = 2\n",
      "2 x 2 = 4\n",
      "2 x 3 = 6\n",
      "2 x 4 = 8\n",
      "2 x 5 = 10\n",
      "2 x 6 = 12\n",
      "2 x 7 = 14\n",
      "2 x 8 = 16\n",
      "2 x 9 = 18\n",
      "2 x 10 = 20\n"
     ]
    }
   ],
   "source": [
    "#Print Table of Two\n",
    "i = 1\n",
    "n = 2\n",
    "while i <= 10:\n",
    "    print(n, 'x' , i , '=' , n*i)\n",
    "    i = i+1"
   ]
  },
  {
   "cell_type": "code",
   "execution_count": 4,
   "id": "ad087925",
   "metadata": {},
   "outputs": [],
   "source": [
    "#Wihle with list\n",
    "#add 100 to each value od each index\n",
    "l1 = [1,2,3,4,5]\n",
    "i = 0\n",
    "while i < len(l1):\n",
    "    l1[i] = l1[i] + 100\n",
    "    i = i + 1"
   ]
  },
  {
   "cell_type": "code",
   "execution_count": 5,
   "id": "4bdb7614",
   "metadata": {},
   "outputs": [
    {
     "data": {
      "text/plain": [
       "[101, 102, 103, 104, 105]"
      ]
     },
     "execution_count": 5,
     "metadata": {},
     "output_type": "execute_result"
    }
   ],
   "source": [
    "l1"
   ]
  },
  {
   "cell_type": "code",
   "execution_count": 7,
   "id": "57f76e2c",
   "metadata": {},
   "outputs": [
    {
     "name": "stdout",
     "output_type": "stream",
     "text": [
      "Enter your name >>>Shila\n",
      "Maths marks >>>98\n",
      "Science marks >>>99\n",
      "English marks >>>97\n",
      "Computer marks >>>96\n",
      "Shila , your total marks is 390 and your percentage is 97.5\n",
      "Want to enter more? y/n >>>n\n"
     ]
    }
   ],
   "source": [
    "#Ask user to enter markd and calulate percentage. Ask again if he/she wants to calculate marks again or not.\n",
    "#initially again is 'True' to run the while loop for at least once\n",
    "again = True\n",
    "while again == True:\n",
    "    '''Taking marks from user'''\n",
    "    name = input(\"Enter your name >>>\")\n",
    "    maths_marks = int(input(\"Maths marks >>>\"))\n",
    "    science_marks = int(input(\"Science marks >>>\"))\n",
    "    english_marks = int(input(\"English marks >>>\"))\n",
    "    comupter_marks = int(input(\"Computer marks >>>\"))\n",
    "    total = maths_marks + science_marks + english_marks + comupter_marks\n",
    "    \n",
    "    percentage = (total/400)*100\n",
    "    print(name, \", your total marks is\", total, \"and your percentage is\", percentage)\n",
    "    \n",
    "    #User has to enter y if he want to run it again\n",
    "    a = input(\"Want to enter more? y/n >>>\")\n",
    "    if a!=\"y\":\n",
    "        #if user enters anything other than 'y', then 'more' is set to 'False' to stop the loop.\n",
    "        again = False"
   ]
  },
  {
   "cell_type": "code",
   "execution_count": 8,
   "id": "a49487db",
   "metadata": {},
   "outputs": [
    {
     "name": "stdout",
     "output_type": "stream",
     "text": [
      "Give lower limit of dice\n",
      "1\n",
      "Give upper limit of dice\n",
      "6\n",
      "type q to Quit or any other key/enter to continue\n",
      ">>> 4\n",
      "q\n"
     ]
    }
   ],
   "source": [
    "#Digital dice\n",
    "#importing random function to genterate random number\n",
    "from random import randint\n",
    "print(\"Give lower limit of dice\")\n",
    "a = int(input())\n",
    "print(\"Give upper limit of dice\")\n",
    "b = int(input())\n",
    "print(\"type q to Quit or any other key/enter to continue\")\n",
    "while True:\n",
    "    print(\">>> \"+str(randint(a,b))) #randint is generating random number between a and b\n",
    "    if input() == 'q': #if 'q' is entered then come out of loop\n",
    "        break"
   ]
  }
 ],
 "metadata": {
  "kernelspec": {
   "display_name": "Python 3",
   "language": "python",
   "name": "python3"
  },
  "language_info": {
   "codemirror_mode": {
    "name": "ipython",
    "version": 3
   },
   "file_extension": ".py",
   "mimetype": "text/x-python",
   "name": "python",
   "nbconvert_exporter": "python",
   "pygments_lexer": "ipython3",
   "version": "3.8.8"
  }
 },
 "nbformat": 4,
 "nbformat_minor": 5
}
