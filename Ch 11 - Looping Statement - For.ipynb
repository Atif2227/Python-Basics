{
 "cells": [
  {
   "cell_type": "markdown",
   "id": "f9497724",
   "metadata": {},
   "source": [
    "# For loop is used to iterate over sequence (Tuple, List, Dictionary..) "
   ]
  },
  {
   "cell_type": "markdown",
   "id": "515b8fdf",
   "metadata": {},
   "source": [
    "## Syntax of for loop\n",
    "\n",
    "for val in sequence \n",
    "    body of for"
   ]
  },
  {
   "cell_type": "code",
   "execution_count": 1,
   "id": "1de96fdd",
   "metadata": {},
   "outputs": [],
   "source": [
    "l1 = ['mango', 'apple', 'grapes', 'organge']"
   ]
  },
  {
   "cell_type": "code",
   "execution_count": 2,
   "id": "4015e48f",
   "metadata": {},
   "outputs": [],
   "source": [
    "#Print individual element of the above list"
   ]
  },
  {
   "cell_type": "code",
   "execution_count": 3,
   "id": "40a7e0bc",
   "metadata": {},
   "outputs": [
    {
     "name": "stdout",
     "output_type": "stream",
     "text": [
      "mango\n",
      "apple\n",
      "grapes\n",
      "organge\n"
     ]
    }
   ],
   "source": [
    "for i in l1:\n",
    "    print(i)"
   ]
  },
  {
   "cell_type": "markdown",
   "id": "624139ad",
   "metadata": {},
   "source": [
    "## Nested for loop"
   ]
  },
  {
   "cell_type": "code",
   "execution_count": 6,
   "id": "f9a115dd",
   "metadata": {},
   "outputs": [],
   "source": [
    "l2 = ['orange', 'white', 'black']\n",
    "l3 = ['chair', 'book','laptop']"
   ]
  },
  {
   "cell_type": "code",
   "execution_count": 12,
   "id": "cb4d4cb0",
   "metadata": {},
   "outputs": [
    {
     "name": "stdout",
     "output_type": "stream",
     "text": [
      "orange chair\n",
      "orange book\n",
      "orange laptop\n",
      "white chair\n",
      "white book\n",
      "white laptop\n",
      "black chair\n",
      "black book\n",
      "black laptop\n"
     ]
    }
   ],
   "source": [
    "for i in l2:\n",
    "    for j in l3:\n",
    "        print (i,j)"
   ]
  }
 ],
 "metadata": {
  "kernelspec": {
   "display_name": "Python 3",
   "language": "python",
   "name": "python3"
  },
  "language_info": {
   "codemirror_mode": {
    "name": "ipython",
    "version": 3
   },
   "file_extension": ".py",
   "mimetype": "text/x-python",
   "name": "python",
   "nbconvert_exporter": "python",
   "pygments_lexer": "ipython3",
   "version": "3.8.8"
  }
 },
 "nbformat": 4,
 "nbformat_minor": 5
}
