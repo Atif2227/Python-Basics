{
 "cells": [
  {
   "cell_type": "markdown",
   "id": "e6d23d16",
   "metadata": {},
   "source": [
    "# Function is a block of code performing a specific task"
   ]
  },
  {
   "cell_type": "code",
   "execution_count": 1,
   "id": "340b91ed",
   "metadata": {},
   "outputs": [],
   "source": [
    "def hello ():\n",
    "    print(\"Hello world\")"
   ]
  },
  {
   "cell_type": "code",
   "execution_count": 2,
   "id": "3209710a",
   "metadata": {},
   "outputs": [
    {
     "name": "stdout",
     "output_type": "stream",
     "text": [
      "Hello world\n"
     ]
    }
   ],
   "source": [
    "hello()"
   ]
  },
  {
   "cell_type": "code",
   "execution_count": 3,
   "id": "9637209e",
   "metadata": {},
   "outputs": [],
   "source": [
    "#Here 'hello' is a function and when ever this function is called, it will type 'Hello world'.\n",
    "#This function has no parameters()"
   ]
  },
  {
   "cell_type": "code",
   "execution_count": 6,
   "id": "df2462d6",
   "metadata": {},
   "outputs": [],
   "source": [
    "#Ask user to input a value and make a function which adds 10 in in and returns the value.\n",
    "def add10 (x):\n",
    "    return x + 10"
   ]
  },
  {
   "cell_type": "code",
   "execution_count": 7,
   "id": "91648d4c",
   "metadata": {},
   "outputs": [
    {
     "data": {
      "text/plain": [
       "11"
      ]
     },
     "execution_count": 7,
     "metadata": {},
     "output_type": "execute_result"
    }
   ],
   "source": [
    "add10(1)"
   ]
  },
  {
   "cell_type": "code",
   "execution_count": 26,
   "id": "e5fb02ea",
   "metadata": {},
   "outputs": [
    {
     "name": "stdout",
     "output_type": "stream",
     "text": [
      "enter a number -\n",
      "10\n"
     ]
    },
    {
     "data": {
      "text/plain": [
       "20"
      ]
     },
     "execution_count": 26,
     "metadata": {},
     "output_type": "execute_result"
    }
   ],
   "source": [
    "#now do this in a better way\n",
    "print(\"enter a number\", \"-\")\n",
    "i = int(input())\n",
    "def add10 (i):\n",
    "    return i + 10\n",
    "add10(i)\n"
   ]
  },
  {
   "cell_type": "code",
   "execution_count": 32,
   "id": "22d3b3e3",
   "metadata": {},
   "outputs": [
    {
     "name": "stdout",
     "output_type": "stream",
     "text": [
      "enter a number -\n",
      "974535795\n",
      "974535795 is odd\n"
     ]
    }
   ],
   "source": [
    "#To find odd even number\n",
    "\n",
    "print(\"enter a number\", \"-\") #input a number\n",
    "\n",
    "i = int(input()) #method for asking to enter a number\n",
    "\n",
    "def odd_even (i): #defining the function\n",
    "    \n",
    "    if i%2==0:    #adding condition\n",
    "        \n",
    "        print (i, \"is even\")\n",
    "        \n",
    "    else:\n",
    "        print (i, \"is odd\")\n",
    "        \n",
    "odd_even(i)      #calling function\n"
   ]
  }
 ],
 "metadata": {
  "kernelspec": {
   "display_name": "Python 3",
   "language": "python",
   "name": "python3"
  },
  "language_info": {
   "codemirror_mode": {
    "name": "ipython",
    "version": 3
   },
   "file_extension": ".py",
   "mimetype": "text/x-python",
   "name": "python",
   "nbconvert_exporter": "python",
   "pygments_lexer": "ipython3",
   "version": "3.8.8"
  }
 },
 "nbformat": 4,
 "nbformat_minor": 5
}
