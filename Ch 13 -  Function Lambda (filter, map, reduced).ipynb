{
 "cells": [
  {
   "cell_type": "markdown",
   "id": "a00f68a0",
   "metadata": {},
   "source": [
    "# Lambda is an anonymous function, it has no name, therefore can't be defined"
   ]
  },
  {
   "cell_type": "markdown",
   "id": "f552705f",
   "metadata": {},
   "source": [
    "### Parameters & code (expression) of the function, in one line"
   ]
  },
  {
   "cell_type": "code",
   "execution_count": null,
   "id": "9d027712",
   "metadata": {},
   "outputs": [],
   "source": [
    "# lambda parameter:expression"
   ]
  },
  {
   "cell_type": "code",
   "execution_count": 11,
   "id": "156d7dde",
   "metadata": {},
   "outputs": [],
   "source": [
    "g = lambda x: x*x*x"
   ]
  },
  {
   "cell_type": "code",
   "execution_count": 12,
   "id": "b845eabf",
   "metadata": {},
   "outputs": [
    {
     "data": {
      "text/plain": [
       "1000"
      ]
     },
     "execution_count": 12,
     "metadata": {},
     "output_type": "execute_result"
    }
   ],
   "source": [
    "g(10)"
   ]
  },
  {
   "cell_type": "markdown",
   "id": "dae66eee",
   "metadata": {},
   "source": [
    "## Lambda with filter, map and reduced"
   ]
  },
  {
   "cell_type": "markdown",
   "id": "adedc606",
   "metadata": {},
   "source": [
    "### Filter"
   ]
  },
  {
   "cell_type": "markdown",
   "id": "3b813074",
   "metadata": {},
   "source": [
    "#### The filter() method filters the given sequence with the help of a function that tests each element in the sequence to be true or not."
   ]
  },
  {
   "cell_type": "code",
   "execution_count": null,
   "id": "8e9b59b2",
   "metadata": {},
   "outputs": [],
   "source": [
    "# Syntax \n",
    "#filter (function, sequence)\n",
    "#function: function that tests if each element of a sequence true or not.\n",
    "#sequence: sequence which needs to be filtered, it can be sets, lists, tuples, or containers of any iterators.\n",
    "#Returns:returns an iterator that is already filtered."
   ]
  },
  {
   "cell_type": "code",
   "execution_count": 24,
   "id": "960ab8c2",
   "metadata": {},
   "outputs": [
    {
     "name": "stdout",
     "output_type": "stream",
     "text": [
      "The filtered letters are:\n",
      "e\n",
      "e\n"
     ]
    }
   ],
   "source": [
    "#Eg - Function that filters vowels\n",
    "def fun(variable):\n",
    "    letters = ['a','e','i','o','u']\n",
    "    if (variable in letters):\n",
    "        return True\n",
    "    else:\n",
    "        return False \n",
    "s1 = ['g', 'e', 'e', 'j', 'k', 's', 'p', 'r']\n",
    "f1 = filter(fun,s1)\n",
    "print('The filtered letters are:')\n",
    "for j in f1:\n",
    "    print(j)\n"
   ]
  },
  {
   "cell_type": "code",
   "execution_count": 25,
   "id": "5eddf4da",
   "metadata": {},
   "outputs": [],
   "source": [
    "# Lambda with Filter"
   ]
  },
  {
   "cell_type": "code",
   "execution_count": 32,
   "id": "4b615417",
   "metadata": {},
   "outputs": [
    {
     "data": {
      "text/plain": [
       "[12, 34, 56, 78, 90]"
      ]
     },
     "execution_count": 32,
     "metadata": {},
     "output_type": "execute_result"
    }
   ],
   "source": [
    "#Filter even numbers \n",
    "l1 = [12,23,34,45,56,67,78,89,90,11]\n",
    "Filtered_List = list (filter(lambda x: (x%2==0),l1))\n",
    "Filtered_List"
   ]
  },
  {
   "cell_type": "code",
   "execution_count": null,
   "id": "11b287de",
   "metadata": {},
   "outputs": [],
   "source": [
    "#Break down above code\n",
    "#Filtered_List = list (filter(lambda x: (x%2==0),l1))\n",
    "#Step 1: filter(function,sequence)\n",
    "#Step 2: filter(lambda,l1)\n",
    "#Step 3: filter(lambda(parameter:expression),l1)\n",
    "#Step 4: filter(lambda x: (x%2==0),l1)\n",
    "# now put it in new list\n",
    "#Step 5: list(filter(lambda x: (x%2==0),l1))\n",
    "# now put new list into new variable\n",
    "#Step 6: Filtered_List = list(filter(lambda x: (x%2==0),l1))"
   ]
  },
  {
   "cell_type": "markdown",
   "id": "8662d2c3",
   "metadata": {},
   "source": [
    "### Map"
   ]
  },
  {
   "cell_type": "markdown",
   "id": "02900e68",
   "metadata": {},
   "source": [
    "#### map() function returns a map object(which is an iterator) of the results after applying the given function to each item of a given iterable (list, tuple etc.)"
   ]
  },
  {
   "cell_type": "code",
   "execution_count": 33,
   "id": "313071cc",
   "metadata": {},
   "outputs": [],
   "source": [
    "# Syntax\n",
    "# map(function, iterable)\n",
    "# function : It is a function to which map passes each element of given iterable.\n",
    "# iterable : It is a iterable which is to be mapped."
   ]
  },
  {
   "cell_type": "markdown",
   "id": "8ee2c2dd",
   "metadata": {},
   "source": [
    "#### Note : You can pass one or more iterable to the map() function."
   ]
  },
  {
   "cell_type": "code",
   "execution_count": null,
   "id": "48504b04",
   "metadata": {},
   "outputs": [],
   "source": [
    "# Return :Returns a list of the results after applying the given function to each item of a given iterable (list, tuple etc.)"
   ]
  },
  {
   "cell_type": "markdown",
   "id": "6113d9ff",
   "metadata": {},
   "source": [
    "#### Note : The returned value from map() (map object) then can be passed to functions like list() (to create a list), set() (to create a set) ."
   ]
  },
  {
   "cell_type": "code",
   "execution_count": 34,
   "id": "ee3585f6",
   "metadata": {},
   "outputs": [
    {
     "name": "stdout",
     "output_type": "stream",
     "text": [
      "[2, 4, 6, 8]\n"
     ]
    }
   ],
   "source": [
    "# Return Double of given number (n)\n",
    "def addition (n):\n",
    "    return n + n\n",
    "numbers = (1,2,3,4)\n",
    "Result = list (map(addition, numbers))\n",
    "print (Result)"
   ]
  },
  {
   "cell_type": "code",
   "execution_count": 5,
   "id": "58a41422",
   "metadata": {},
   "outputs": [
    {
     "name": "stdout",
     "output_type": "stream",
     "text": [
      "[2, 4, 6, 8, 10, 12, 14, 16]\n"
     ]
    }
   ],
   "source": [
    "# Multiply individual elements with 2\n",
    "l1 = [1,2,3,4,5,6,7,8]\n",
    "def mult (n):\n",
    "    return n*2\n",
    "Result = list(map(mult,l1))\n",
    "print (Result)"
   ]
  },
  {
   "cell_type": "markdown",
   "id": "18a912ce",
   "metadata": {},
   "source": [
    "### Reduce"
   ]
  },
  {
   "cell_type": "markdown",
   "id": "ab5c53b3",
   "metadata": {},
   "source": [
    "#### Used when we need a single final result over a sequence. "
   ]
  },
  {
   "cell_type": "code",
   "execution_count": 6,
   "id": "5a61af0c",
   "metadata": {},
   "outputs": [],
   "source": [
    "from functools import reduce "
   ]
  },
  {
   "cell_type": "code",
   "execution_count": 9,
   "id": "37bfb0f5",
   "metadata": {},
   "outputs": [
    {
     "data": {
      "text/plain": [
       "36"
      ]
     },
     "execution_count": 9,
     "metadata": {},
     "output_type": "execute_result"
    }
   ],
   "source": [
    "sum = reduce(lambda x,y:x+y,l1)\n",
    "sum"
   ]
  }
 ],
 "metadata": {
  "kernelspec": {
   "display_name": "Python 3",
   "language": "python",
   "name": "python3"
  },
  "language_info": {
   "codemirror_mode": {
    "name": "ipython",
    "version": 3
   },
   "file_extension": ".py",
   "mimetype": "text/x-python",
   "name": "python",
   "nbconvert_exporter": "python",
   "pygments_lexer": "ipython3",
   "version": "3.8.8"
  }
 },
 "nbformat": 4,
 "nbformat_minor": 5
}
