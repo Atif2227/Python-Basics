{
 "cells": [
  {
   "cell_type": "markdown",
   "id": "5101eca0",
   "metadata": {},
   "source": [
    "#### Think of a book. A book has its own serial number and number of pages. Now, suppose you have two types of books - Science book and Computer book. Suppose the serial number of the Science book is SC12 and that of the Computer book is CS34 and the number of pages are 200 and 250 respectively."
   ]
  },
  {
   "cell_type": "markdown",
   "id": "33918de8",
   "metadata": {},
   "source": [
    "#### Here, ‘Book’ is a class having attributes 'Page' and 'Serial number', and 'Science' and 'Computer' are objects(instances) of ‘Book’."
   ]
  },
  {
   "cell_type": "markdown",
   "id": "49db3887",
   "metadata": {},
   "source": [
    "### Classes - are user-defined data types that act as the blueprint for individual objects, attributes and methods."
   ]
  },
  {
   "cell_type": "markdown",
   "id": "4c8f0b0e",
   "metadata": {},
   "source": [
    "### Objects - are instances of a class"
   ]
  },
  {
   "cell_type": "markdown",
   "id": "a207eae8",
   "metadata": {},
   "source": [
    "\n",
    "### Methods -  are functions that are defined inside a class that describe the behaviors of an object."
   ]
  },
  {
   "cell_type": "markdown",
   "id": "91dd969f",
   "metadata": {},
   "source": [
    "### Attributes - are defined in the class template and represent the state of an object. Objects will have data stored in the attributes field."
   ]
  },
  {
   "cell_type": "markdown",
   "id": "daec8fea",
   "metadata": {},
   "source": [
    "## Creating Classes and Objects"
   ]
  },
  {
   "cell_type": "code",
   "execution_count": 1,
   "id": "76da9290",
   "metadata": {},
   "outputs": [],
   "source": [
    "class Phone: #the 1st letter of the class is always capita - Phone and not phhone.\n",
    "    \n",
    "    def make_call(self): # Method-1\n",
    "        print(\"Calling\") \n",
    "\n",
    "    def play_game(self): # Method -2\n",
    "        print(\"Playing\")\n",
    "        "
   ]
  },
  {
   "cell_type": "markdown",
   "id": "26a8bd07",
   "metadata": {},
   "source": [
    "## Creating/instantiating and object p1"
   ]
  },
  {
   "cell_type": "code",
   "execution_count": 2,
   "id": "a87abf1f",
   "metadata": {},
   "outputs": [],
   "source": [
    "p1 = Phone()"
   ]
  },
  {
   "cell_type": "markdown",
   "id": "6dc40f61",
   "metadata": {},
   "source": [
    "## Invoking methods through objects"
   ]
  },
  {
   "cell_type": "code",
   "execution_count": 4,
   "id": "acfb4381",
   "metadata": {},
   "outputs": [
    {
     "name": "stdout",
     "output_type": "stream",
     "text": [
      "Calling\n"
     ]
    }
   ],
   "source": [
    "p1.make_call()"
   ]
  },
  {
   "cell_type": "code",
   "execution_count": 8,
   "id": "4aff9268",
   "metadata": {},
   "outputs": [
    {
     "name": "stdout",
     "output_type": "stream",
     "text": [
      "Playing\n"
     ]
    }
   ],
   "source": [
    "p1.play_game()"
   ]
  },
  {
   "cell_type": "markdown",
   "id": "2aa8e381",
   "metadata": {},
   "source": [
    "## Adding parameter to the class"
   ]
  },
  {
   "cell_type": "code",
   "execution_count": 22,
   "id": "6db220b4",
   "metadata": {},
   "outputs": [],
   "source": [
    "class Phone:\n",
    "    def set_colour(self,colour):\n",
    "        self.colour=colour\n",
    "        \n",
    "    def set_cost(self,cost):\n",
    "        self.cost=cost\n",
    "        \n",
    "    def show_colour(self):\n",
    "        return self.colour\n",
    "        \n",
    "    def show_cost(self):\n",
    "        return self.cost\n",
    "    \n",
    "    def make_call(self):\n",
    "        print(\"calling\")\n",
    "        \n",
    "    def play_game(self):\n",
    "        print(\"Playing\")\n",
    "    "
   ]
  },
  {
   "cell_type": "code",
   "execution_count": 23,
   "id": "4f36754b",
   "metadata": {},
   "outputs": [],
   "source": [
    " p2 = Phone()"
   ]
  },
  {
   "cell_type": "code",
   "execution_count": 24,
   "id": "d5d8eff8",
   "metadata": {},
   "outputs": [],
   "source": [
    "p2.set_colour(\"Blue\")\n",
    "p2.set_cost(2000)"
   ]
  },
  {
   "cell_type": "code",
   "execution_count": 25,
   "id": "5d4370be",
   "metadata": {},
   "outputs": [
    {
     "name": "stdout",
     "output_type": "stream",
     "text": [
      "Blue\n"
     ]
    }
   ],
   "source": [
    "p2.show_colour()"
   ]
  },
  {
   "cell_type": "code",
   "execution_count": 26,
   "id": "e67d1290",
   "metadata": {},
   "outputs": [
    {
     "name": "stdout",
     "output_type": "stream",
     "text": [
      "2000\n"
     ]
    }
   ],
   "source": [
    "p2.show_cost()"
   ]
  },
  {
   "cell_type": "code",
   "execution_count": 27,
   "id": "7f8aa36b",
   "metadata": {},
   "outputs": [
    {
     "name": "stdout",
     "output_type": "stream",
     "text": [
      "calling\n"
     ]
    }
   ],
   "source": [
    "p2.make_call()"
   ]
  },
  {
   "cell_type": "code",
   "execution_count": 28,
   "id": "438911a3",
   "metadata": {},
   "outputs": [
    {
     "name": "stdout",
     "output_type": "stream",
     "text": [
      "Playing\n"
     ]
    }
   ],
   "source": [
    "p2.play_game()"
   ]
  },
  {
   "cell_type": "markdown",
   "id": "1a2e81c3",
   "metadata": {},
   "source": [
    "## Creating a class with constructor"
   ]
  },
  {
   "cell_type": "code",
   "execution_count": 35,
   "id": "b90de875",
   "metadata": {},
   "outputs": [],
   "source": [
    "class Employee:\n",
    "    def __init__(self,name,age,salary,gender):\n",
    "        self.name = name\n",
    "        self.age = age\n",
    "        self.salary = salary\n",
    "        self.gender = gender\n",
    "        \n",
    "    def employee_details(self):\n",
    "        print(\"Name of the employee is \", self.name)\n",
    "        print(\"Age of the employee is \", self.age)\n",
    "        print(\"Salary of the employee is \", self.salary)\n",
    "        print(\"Gender of the employee is \", self.gender)"
   ]
  },
  {
   "cell_type": "code",
   "execution_count": 36,
   "id": "60f38f79",
   "metadata": {},
   "outputs": [],
   "source": [
    "# Now instantiate the object"
   ]
  },
  {
   "cell_type": "code",
   "execution_count": 38,
   "id": "b81b6bcf",
   "metadata": {},
   "outputs": [
    {
     "name": "stdout",
     "output_type": "stream",
     "text": [
      "Name of the employee is  Shila\n",
      "Age of the employee is  24\n",
      "Salary of the employee is  25000\n",
      "Gender of the employee is  Female\n"
     ]
    }
   ],
   "source": [
    "e1 = Employee('Shila',24,25000,'Female')\n",
    "e1.employee_details()"
   ]
  },
  {
   "cell_type": "markdown",
   "id": "5a192773",
   "metadata": {},
   "source": [
    "# OOP Inheriatnce"
   ]
  },
  {
   "cell_type": "markdown",
   "id": "def7ff4b",
   "metadata": {},
   "source": [
    "### With inheritance, one class can derive (inherit) the properties of another class."
   ]
  },
  {
   "cell_type": "code",
   "execution_count": 39,
   "id": "fdc0c211",
   "metadata": {},
   "outputs": [],
   "source": [
    "class Vehicle:                      #This is the base class\n",
    "    def __init__(self,milage,cost):\n",
    "        self.milage = milage\n",
    "        self.cost = cost\n",
    "    def show_details(self):\n",
    "        print(\"This is a vehicle\")\n",
    "        print(\"Milage of the vehicle is \", self.milage)\n",
    "        print(\"The cost of the vehicle is\", self.cost)"
   ]
  },
  {
   "cell_type": "code",
   "execution_count": 40,
   "id": "9ca82390",
   "metadata": {},
   "outputs": [
    {
     "name": "stdout",
     "output_type": "stream",
     "text": [
      "This is a vehicle\n",
      "Milage of the vehicle is  20\n",
      "The cost of the vehicle is 20000\n"
     ]
    }
   ],
   "source": [
    "v1 = Vehicle(20,20000) #Instantiating the object for base calss\n",
    "v1.show_details()"
   ]
  },
  {
   "cell_type": "code",
   "execution_count": 41,
   "id": "52ad5c71",
   "metadata": {},
   "outputs": [],
   "source": [
    "class Car(Vehicle): #Creating a child class enheriting parent class's(super class's) features.\n",
    "    def show_car(self):\n",
    "        print(\"Toyota Corola\")"
   ]
  },
  {
   "cell_type": "code",
   "execution_count": 44,
   "id": "76701f16",
   "metadata": {},
   "outputs": [
    {
     "name": "stdout",
     "output_type": "stream",
     "text": [
      "This is a vehicle\n",
      "Milage of the vehicle is  25\n",
      "The cost of the vehicle is 25000\n",
      "Toyota Corola\n"
     ]
    }
   ],
   "source": [
    "c1 = Car(25,25000) #Instatiating the object for child class\n",
    "c1.show_details()\n",
    "c1.show_car()  #Invoking the child method"
   ]
  },
  {
   "cell_type": "markdown",
   "id": "bd13ff1e",
   "metadata": {},
   "source": [
    "## over-riding init method"
   ]
  },
  {
   "cell_type": "markdown",
   "id": "49e21c7d",
   "metadata": {},
   "source": [
    "### adding extra attributes in child class"
   ]
  },
  {
   "cell_type": "code",
   "execution_count": 46,
   "id": "c219a3db",
   "metadata": {},
   "outputs": [],
   "source": [
    "class Car(Vehicle):\n",
    "    def __init__(self,milage,cost,tyres,hp):#Here tyres and hp are added in child class Car\n",
    "        super().__init__(milage,cost)      \n",
    "        self.tyres = tyres\n",
    "        self.hp = hp\n",
    "    def show_car_details(self):\n",
    "        print(\"Toyota Corola\")\n",
    "        print(\"Number of tyres = \", self.tyres)\n",
    "        print(\"Horse power of the car is = \", self.hp)"
   ]
  },
  {
   "cell_type": "code",
   "execution_count": 47,
   "id": "1bcf3fce",
   "metadata": {},
   "outputs": [
    {
     "name": "stdout",
     "output_type": "stream",
     "text": [
      "This is a vehicle\n",
      "Milage of the vehicle is  25\n",
      "The cost of the vehicle is 25000\n"
     ]
    }
   ],
   "source": [
    "    c1 = Car(25,25000,4,999)\n",
    "    c1.show_details() #invikoing method from parent class"
   ]
  },
  {
   "cell_type": "code",
   "execution_count": 49,
   "id": "ec5a3ccd",
   "metadata": {},
   "outputs": [
    {
     "name": "stdout",
     "output_type": "stream",
     "text": [
      "Toyota Corola\n",
      "Number of tyres =  4\n",
      "Horse power of the car is =  999\n"
     ]
    }
   ],
   "source": [
    "c1.show_car_details() #invoking method from child class"
   ]
  },
  {
   "cell_type": "markdown",
   "id": "1fd50b8e",
   "metadata": {},
   "source": [
    "# Types of Inheritnace"
   ]
  },
  {
   "cell_type": "markdown",
   "id": "27f867fe",
   "metadata": {},
   "source": [
    "## 1.Single Inheritance (child class inherits from one parent class, discussed above)"
   ]
  },
  {
   "cell_type": "markdown",
   "id": "3724773f",
   "metadata": {},
   "source": [
    "## 2.Multiple Inheritance (Child class inherits from more than one parent class)"
   ]
  },
  {
   "cell_type": "code",
   "execution_count": 71,
   "id": "085fcdfe",
   "metadata": {},
   "outputs": [],
   "source": [
    "class Parent1(): # Parent class 1\n",
    "    def assign_string_one(self,str1):\n",
    "        self.str1 = str1\n",
    "    def show_string_one(self):\n",
    "        return self.str1\n",
    "    \n",
    "class Parent2(): # Parent class 2\n",
    "    def assign_string_two(self,str2):\n",
    "        self.str2 = str2\n",
    "    def show_string_two(self):\n",
    "        return self.str2\n",
    "    \n",
    "class Derived (Parent1,Parent2): # Child class inheriting from both parents\n",
    "    def assign_string_three(self,str3):\n",
    "        self.str3 = str3\n",
    "    def show_string_three(self):\n",
    "        return self.str3\n",
    "    \n",
    "    "
   ]
  },
  {
   "cell_type": "code",
   "execution_count": 76,
   "id": "9ed61fb9",
   "metadata": {},
   "outputs": [],
   "source": [
    "#Instantiating object (d1) of child class\n",
    "d1 = Derived()\n",
    "d1.assign_string_one(\"One\")\n",
    "d1.assign_string_two(\"Two\")\n",
    "d1.assign_string_three(\"Three\")"
   ]
  },
  {
   "cell_type": "code",
   "execution_count": 78,
   "id": "a31c4761",
   "metadata": {},
   "outputs": [
    {
     "data": {
      "text/plain": [
       "'One'"
      ]
     },
     "execution_count": 78,
     "metadata": {},
     "output_type": "execute_result"
    }
   ],
   "source": [
    "#Invoke method of parent 1\n",
    "d1.show_string_one()"
   ]
  },
  {
   "cell_type": "code",
   "execution_count": 80,
   "id": "0b83c5d9",
   "metadata": {},
   "outputs": [
    {
     "data": {
      "text/plain": [
       "'Two'"
      ]
     },
     "execution_count": 80,
     "metadata": {},
     "output_type": "execute_result"
    }
   ],
   "source": [
    "#Invoke method of parent 2\n",
    "d1.show_string_two()"
   ]
  },
  {
   "cell_type": "code",
   "execution_count": 81,
   "id": "e8f25457",
   "metadata": {},
   "outputs": [
    {
     "data": {
      "text/plain": [
       "'Three'"
      ]
     },
     "execution_count": 81,
     "metadata": {},
     "output_type": "execute_result"
    }
   ],
   "source": [
    "#Invoke method of child\n",
    "d1.show_string_three()"
   ]
  },
  {
   "cell_type": "markdown",
   "id": "8886d033",
   "metadata": {},
   "source": [
    "## 3.Multi level Inheritance (Parent to child, child to grand child relationship)"
   ]
  },
  {
   "cell_type": "code",
   "execution_count": 89,
   "id": "ed9543f5",
   "metadata": {},
   "outputs": [],
   "source": [
    "#Parent class\n",
    "class Parent:\n",
    "    def get_name(self,name):\n",
    "        self.name =  name\n",
    "    def show_name(self):\n",
    "        return self.name"
   ]
  },
  {
   "cell_type": "code",
   "execution_count": 90,
   "id": "3eccd146",
   "metadata": {},
   "outputs": [],
   "source": [
    "#Child class\n",
    "class Child(Parent):\n",
    "    def get_age(self,age):\n",
    "        self.age = age\n",
    "    def show_age(self):\n",
    "        return self.age\n",
    "    "
   ]
  },
  {
   "cell_type": "code",
   "execution_count": 93,
   "id": "bb34fb63",
   "metadata": {},
   "outputs": [],
   "source": [
    "#Grand child class\n",
    "class Grand_child(Child):\n",
    "    def get_gender(self,gender):\n",
    "        self.gender = gender\n",
    "    def show_gender(self):\n",
    "        return self.gender"
   ]
  },
  {
   "cell_type": "code",
   "execution_count": 94,
   "id": "95e0d07e",
   "metadata": {},
   "outputs": [],
   "source": [
    "#Instatntiating object gc of class grand_child\n",
    "gc = Grand_child()\n",
    "gc.get_name(\"Shila\")\n",
    "gc.get_age(24)\n",
    "gc.get_gender(\"Female\")"
   ]
  },
  {
   "cell_type": "code",
   "execution_count": 95,
   "id": "4a8d1f55",
   "metadata": {},
   "outputs": [
    {
     "data": {
      "text/plain": [
       "'Shila'"
      ]
     },
     "execution_count": 95,
     "metadata": {},
     "output_type": "execute_result"
    }
   ],
   "source": [
    "#Invoke method of of parent\n",
    "gc.show_name()"
   ]
  },
  {
   "cell_type": "code",
   "execution_count": 98,
   "id": "ef632f3a",
   "metadata": {},
   "outputs": [
    {
     "data": {
      "text/plain": [
       "24"
      ]
     },
     "execution_count": 98,
     "metadata": {},
     "output_type": "execute_result"
    }
   ],
   "source": [
    "#Invoke Method of child\n",
    "gc.show_age()"
   ]
  },
  {
   "cell_type": "code",
   "execution_count": 99,
   "id": "e71381ff",
   "metadata": {},
   "outputs": [
    {
     "data": {
      "text/plain": [
       "'Female'"
      ]
     },
     "execution_count": 99,
     "metadata": {},
     "output_type": "execute_result"
    }
   ],
   "source": [
    "#Invoke Method of grand child\n",
    "gc.show_gender()"
   ]
  },
  {
   "cell_type": "markdown",
   "id": "a27b1f25",
   "metadata": {},
   "source": [
    "## 4.Hybrid Inheritance"
   ]
  },
  {
   "cell_type": "code",
   "execution_count": null,
   "id": "5a2de6ff",
   "metadata": {},
   "outputs": [],
   "source": []
  }
 ],
 "metadata": {
  "kernelspec": {
   "display_name": "Python 3",
   "language": "python",
   "name": "python3"
  },
  "language_info": {
   "codemirror_mode": {
    "name": "ipython",
    "version": 3
   },
   "file_extension": ".py",
   "mimetype": "text/x-python",
   "name": "python",
   "nbconvert_exporter": "python",
   "pygments_lexer": "ipython3",
   "version": "3.8.8"
  }
 },
 "nbformat": 4,
 "nbformat_minor": 5
}
