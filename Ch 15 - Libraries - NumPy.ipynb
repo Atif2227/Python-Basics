{
 "cells": [
  {
   "cell_type": "markdown",
   "id": "ef830b6a",
   "metadata": {},
   "source": [
    "# NumPy"
   ]
  },
  {
   "cell_type": "markdown",
   "id": "2d1167ee",
   "metadata": {},
   "source": [
    "### NumPy stands for numeric python and it is the library for numeric and scientific computing. "
   ]
  },
  {
   "cell_type": "markdown",
   "id": "87995723",
   "metadata": {},
   "source": [
    "### It consists of multidimentional array objects and a collection of routines for processing those arrays."
   ]
  },
  {
   "cell_type": "markdown",
   "id": "6e1fb7b9",
   "metadata": {},
   "source": [
    "## Creating NumPy array"
   ]
  },
  {
   "cell_type": "markdown",
   "id": "36f7fd51",
   "metadata": {},
   "source": [
    "### 1.Single dimebtional array"
   ]
  },
  {
   "cell_type": "code",
   "execution_count": 1,
   "id": "729b20a6",
   "metadata": {},
   "outputs": [
    {
     "data": {
      "text/plain": [
       "array([1, 2, 3, 4])"
      ]
     },
     "execution_count": 1,
     "metadata": {},
     "output_type": "execute_result"
    }
   ],
   "source": [
    "import numpy as np\n",
    "l1 = [1,2,3,4]\n",
    "n1 = np.array(l1)\n",
    "n1"
   ]
  },
  {
   "cell_type": "code",
   "execution_count": 2,
   "id": "e89f3db2",
   "metadata": {},
   "outputs": [
    {
     "data": {
      "text/plain": [
       "array([1, 2, 3, 4])"
      ]
     },
     "execution_count": 2,
     "metadata": {},
     "output_type": "execute_result"
    }
   ],
   "source": [
    "#in a single command\n",
    "n1_1 = np.array([1,2,3,4])\n",
    "n1_1"
   ]
  },
  {
   "cell_type": "code",
   "execution_count": 3,
   "id": "9ccfc354",
   "metadata": {},
   "outputs": [
    {
     "data": {
      "text/plain": [
       "numpy.ndarray"
      ]
     },
     "execution_count": 3,
     "metadata": {},
     "output_type": "execute_result"
    }
   ],
   "source": [
    "type(n1)"
   ]
  },
  {
   "cell_type": "code",
   "execution_count": 4,
   "id": "46881e8f",
   "metadata": {},
   "outputs": [
    {
     "data": {
      "text/plain": [
       "numpy.ndarray"
      ]
     },
     "execution_count": 4,
     "metadata": {},
     "output_type": "execute_result"
    }
   ],
   "source": [
    "type(n1_1)"
   ]
  },
  {
   "cell_type": "markdown",
   "id": "dc866b9c",
   "metadata": {},
   "source": [
    "### 2.Multidimentional array"
   ]
  },
  {
   "cell_type": "code",
   "execution_count": 5,
   "id": "352071a0",
   "metadata": {},
   "outputs": [
    {
     "data": {
      "text/plain": [
       "array([[10, 20, 30, 40],\n",
       "       [40, 50, 60, 70]])"
      ]
     },
     "execution_count": 5,
     "metadata": {},
     "output_type": "execute_result"
    }
   ],
   "source": [
    "import numpy as np\n",
    "n2 = np.array([[10,20,30,40],[40,50,60,70]])\n",
    "n2"
   ]
  },
  {
   "cell_type": "code",
   "execution_count": 6,
   "id": "b5e38820",
   "metadata": {},
   "outputs": [
    {
     "data": {
      "text/plain": [
       "numpy.ndarray"
      ]
     },
     "execution_count": 6,
     "metadata": {},
     "output_type": "execute_result"
    }
   ],
   "source": [
    "type(n2)"
   ]
  },
  {
   "cell_type": "markdown",
   "id": "d6f54f47",
   "metadata": {},
   "source": [
    "\n",
    "### Initializing NumPy Array - with 'zeros'"
   ]
  },
  {
   "cell_type": "markdown",
   "id": "7a26ce78",
   "metadata": {},
   "source": [
    "### import numpy as np #This command is not requeried for each new arry creation. Once created within a session, it works for all new array. "
   ]
  },
  {
   "cell_type": "code",
   "execution_count": 7,
   "id": "498d0565",
   "metadata": {},
   "outputs": [
    {
     "data": {
      "text/plain": [
       "array([[0., 0.]])"
      ]
     },
     "execution_count": 7,
     "metadata": {},
     "output_type": "execute_result"
    }
   ],
   "source": [
    "import numpy as np\n",
    "n1 = np.zeros((1,2)) #1,2 - 1 row, 2 column\n",
    "n1"
   ]
  },
  {
   "cell_type": "code",
   "execution_count": 8,
   "id": "0a3fa382",
   "metadata": {},
   "outputs": [
    {
     "data": {
      "text/plain": [
       "array([[0., 0., 0., 0., 0.],\n",
       "       [0., 0., 0., 0., 0.],\n",
       "       [0., 0., 0., 0., 0.],\n",
       "       [0., 0., 0., 0., 0.],\n",
       "       [0., 0., 0., 0., 0.]])"
      ]
     },
     "execution_count": 8,
     "metadata": {},
     "output_type": "execute_result"
    }
   ],
   "source": [
    "n2 = np.zeros((5,5))\n",
    "n2"
   ]
  },
  {
   "cell_type": "markdown",
   "id": "3564bc81",
   "metadata": {},
   "source": [
    "### Initializing NumPy Array - with 'full'"
   ]
  },
  {
   "cell_type": "code",
   "execution_count": 9,
   "id": "b95498e1",
   "metadata": {},
   "outputs": [
    {
     "data": {
      "text/plain": [
       "array([[10, 10],\n",
       "       [10, 10]])"
      ]
     },
     "execution_count": 9,
     "metadata": {},
     "output_type": "execute_result"
    }
   ],
   "source": [
    "import numpy as np\n",
    "n1 = np.full((2,2),10) #((2,2),10)- 2 row, 2 column of number 10\n",
    "n1"
   ]
  },
  {
   "cell_type": "code",
   "execution_count": 10,
   "id": "85647c7d",
   "metadata": {},
   "outputs": [
    {
     "data": {
      "text/plain": [
       "array([[6, 6, 6, 6],\n",
       "       [6, 6, 6, 6],\n",
       "       [6, 6, 6, 6],\n",
       "       [6, 6, 6, 6]])"
      ]
     },
     "execution_count": 10,
     "metadata": {},
     "output_type": "execute_result"
    }
   ],
   "source": [
    "n2 = np.full((4,4),6)\n",
    "n2"
   ]
  },
  {
   "cell_type": "markdown",
   "id": "6f6e55e7",
   "metadata": {},
   "source": [
    "### Initializing NumPy Array - with 'arange' "
   ]
  },
  {
   "cell_type": "markdown",
   "id": "2bc92605",
   "metadata": {},
   "source": [
    "n1 = np.arange(10,20) #(10,20)- means from 10 to 20 where 20 is last index and is exculsive.\n",
    "n1"
   ]
  },
  {
   "cell_type": "code",
   "execution_count": 11,
   "id": "a4d4a23e",
   "metadata": {},
   "outputs": [
    {
     "data": {
      "text/plain": [
       "array([10, 15, 20, 25, 30, 35, 40, 45])"
      ]
     },
     "execution_count": 11,
     "metadata": {},
     "output_type": "execute_result"
    }
   ],
   "source": [
    "n2 = np.arange(10,50,5) #(10,50,5)- means from 10 to 50 with interval of 5.\n",
    "n2"
   ]
  },
  {
   "cell_type": "markdown",
   "id": "68067968",
   "metadata": {},
   "source": [
    "### Initializing NumPy Array - with 'random'"
   ]
  },
  {
   "cell_type": "code",
   "execution_count": 12,
   "id": "cd0a7add",
   "metadata": {},
   "outputs": [
    {
     "data": {
      "text/plain": [
       "array([74, 96, 78, 67, 47])"
      ]
     },
     "execution_count": 12,
     "metadata": {},
     "output_type": "execute_result"
    }
   ],
   "source": [
    "n1 = np.random.randint(1,100,5)\n",
    "#randint is a method for random integer\n",
    "#(1,100,5) means between 1 to 100 any 5 random number\n",
    "n1\n",
    "#n1 will cange every time the code is run."
   ]
  },
  {
   "cell_type": "markdown",
   "id": "d5147ea2",
   "metadata": {},
   "source": [
    "### NumPy Shape - check shape of array with 'shape'"
   ]
  },
  {
   "cell_type": "code",
   "execution_count": 13,
   "id": "e0cc0fba",
   "metadata": {},
   "outputs": [
    {
     "data": {
      "text/plain": [
       "array([74, 96, 78, 67, 47])"
      ]
     },
     "execution_count": 13,
     "metadata": {},
     "output_type": "execute_result"
    }
   ],
   "source": [
    "n1"
   ]
  },
  {
   "cell_type": "code",
   "execution_count": 14,
   "id": "9e6d5216",
   "metadata": {},
   "outputs": [
    {
     "data": {
      "text/plain": [
       "(5,)"
      ]
     },
     "execution_count": 14,
     "metadata": {},
     "output_type": "execute_result"
    }
   ],
   "source": [
    "n1.shape"
   ]
  },
  {
   "cell_type": "code",
   "execution_count": 15,
   "id": "377ff699",
   "metadata": {},
   "outputs": [],
   "source": [
    "#Above resuls means 5 row and no column"
   ]
  },
  {
   "cell_type": "code",
   "execution_count": 16,
   "id": "fefc8b8f",
   "metadata": {},
   "outputs": [
    {
     "data": {
      "text/plain": [
       "array([[1, 2, 3, 4],\n",
       "       [2, 3, 4, 5]])"
      ]
     },
     "execution_count": 16,
     "metadata": {},
     "output_type": "execute_result"
    }
   ],
   "source": [
    "n1 = np.array([[1,2,3,4],[2,3,4,5]])\n",
    "n1"
   ]
  },
  {
   "cell_type": "code",
   "execution_count": 17,
   "id": "94c56690",
   "metadata": {},
   "outputs": [
    {
     "data": {
      "text/plain": [
       "(2, 4)"
      ]
     },
     "execution_count": 17,
     "metadata": {},
     "output_type": "execute_result"
    }
   ],
   "source": [
    "n1.shape"
   ]
  },
  {
   "cell_type": "code",
   "execution_count": 18,
   "id": "54862cad",
   "metadata": {},
   "outputs": [],
   "source": [
    "#above result means 2 row 4 column"
   ]
  },
  {
   "cell_type": "code",
   "execution_count": 19,
   "id": "a3c206d6",
   "metadata": {},
   "outputs": [
    {
     "data": {
      "text/plain": [
       "array([[1, 2],\n",
       "       [3, 4],\n",
       "       [2, 3],\n",
       "       [4, 5]])"
      ]
     },
     "execution_count": 19,
     "metadata": {},
     "output_type": "execute_result"
    }
   ],
   "source": [
    "# can change the shape - mean rows = column and column = rown\n",
    "n1.shape = (4,2)\n",
    "n1"
   ]
  },
  {
   "cell_type": "code",
   "execution_count": 20,
   "id": "5dd78f0c",
   "metadata": {},
   "outputs": [
    {
     "data": {
      "text/plain": [
       "(4, 2)"
      ]
     },
     "execution_count": 20,
     "metadata": {},
     "output_type": "execute_result"
    }
   ],
   "source": [
    "n1.shape"
   ]
  },
  {
   "cell_type": "markdown",
   "id": "667c2ab2",
   "metadata": {},
   "source": [
    "\n",
    "### Stacking (joining) NumPy Arrays"
   ]
  },
  {
   "cell_type": "markdown",
   "id": "bbda5445",
   "metadata": {},
   "source": [
    "#### vstack() - for vertical stacking"
   ]
  },
  {
   "cell_type": "code",
   "execution_count": 21,
   "id": "27626636",
   "metadata": {},
   "outputs": [
    {
     "data": {
      "text/plain": [
       "array([[1, 2, 3, 4],\n",
       "       [9, 8, 7, 6]])"
      ]
     },
     "execution_count": 21,
     "metadata": {},
     "output_type": "execute_result"
    }
   ],
   "source": [
    "n1 = np.array([1,2,3,4])\n",
    "n2 = np.array([9,8,7,6])\n",
    "np.vstack((n1,n2))"
   ]
  },
  {
   "cell_type": "code",
   "execution_count": 22,
   "id": "51ccfd7d",
   "metadata": {},
   "outputs": [
    {
     "data": {
      "text/plain": [
       "array([[9, 8, 7, 6],\n",
       "       [1, 2, 3, 4]])"
      ]
     },
     "execution_count": 22,
     "metadata": {},
     "output_type": "execute_result"
    }
   ],
   "source": [
    "np.vstack((n2,n1))"
   ]
  },
  {
   "cell_type": "markdown",
   "id": "9df89b1a",
   "metadata": {},
   "source": [
    "#### hstack() - for horizontal stacking"
   ]
  },
  {
   "cell_type": "code",
   "execution_count": 23,
   "id": "673e848b",
   "metadata": {},
   "outputs": [
    {
     "data": {
      "text/plain": [
       "array([10, 20, 30, 40,  1,  2,  3,  4])"
      ]
     },
     "execution_count": 23,
     "metadata": {},
     "output_type": "execute_result"
    }
   ],
   "source": [
    "n1 = np.array([10,20,30,40])\n",
    "n2 = np.array([1,2,3,4])\n",
    "np.hstack((n1,n2))"
   ]
  },
  {
   "cell_type": "code",
   "execution_count": 24,
   "id": "e173ff12",
   "metadata": {},
   "outputs": [
    {
     "data": {
      "text/plain": [
       "array([ 1,  2,  3,  4, 10, 20, 30, 40])"
      ]
     },
     "execution_count": 24,
     "metadata": {},
     "output_type": "execute_result"
    }
   ],
   "source": [
    "np.hstack((n2,n1))"
   ]
  },
  {
   "cell_type": "markdown",
   "id": "d4580e5d",
   "metadata": {},
   "source": [
    "#### colunm_stack() as the name suggests😀"
   ]
  },
  {
   "cell_type": "code",
   "execution_count": 25,
   "id": "97c48d08",
   "metadata": {},
   "outputs": [
    {
     "data": {
      "text/plain": [
       "array([[10,  1],\n",
       "       [20,  2],\n",
       "       [30,  3],\n",
       "       [40,  4]])"
      ]
     },
     "execution_count": 25,
     "metadata": {},
     "output_type": "execute_result"
    }
   ],
   "source": [
    "np.column_stack((n1,n2))"
   ]
  },
  {
   "cell_type": "code",
   "execution_count": 26,
   "id": "ee428173",
   "metadata": {},
   "outputs": [
    {
     "data": {
      "text/plain": [
       "array([[ 1, 10],\n",
       "       [ 2, 20],\n",
       "       [ 3, 30],\n",
       "       [ 4, 40]])"
      ]
     },
     "execution_count": 26,
     "metadata": {},
     "output_type": "execute_result"
    }
   ],
   "source": [
    "np.column_stack((n2,n1))"
   ]
  },
  {
   "cell_type": "markdown",
   "id": "5630715f",
   "metadata": {},
   "source": [
    "### Intersection and Difference "
   ]
  },
  {
   "cell_type": "code",
   "execution_count": 27,
   "id": "1aaf22ff",
   "metadata": {},
   "outputs": [
    {
     "data": {
      "text/plain": [
       "array([10, 50])"
      ]
     },
     "execution_count": 27,
     "metadata": {},
     "output_type": "execute_result"
    }
   ],
   "source": [
    "n1 = np.array([10,20,30,40,50])\n",
    "n2 = np.array([90,80,10,70,50])\n",
    "np.intersect1d(n1,n2) #intersect1d is the method"
   ]
  },
  {
   "cell_type": "code",
   "execution_count": 28,
   "id": "c1d034a4",
   "metadata": {},
   "outputs": [
    {
     "data": {
      "text/plain": [
       "array([20, 30, 40])"
      ]
     },
     "execution_count": 28,
     "metadata": {},
     "output_type": "execute_result"
    }
   ],
   "source": [
    "np.setdiff1d(n1,n2) #setdfif1d is the method - elements from n1 which are not present in n2"
   ]
  },
  {
   "cell_type": "code",
   "execution_count": 29,
   "id": "4396813c",
   "metadata": {},
   "outputs": [
    {
     "data": {
      "text/plain": [
       "array([70, 80, 90])"
      ]
     },
     "execution_count": 29,
     "metadata": {},
     "output_type": "execute_result"
    }
   ],
   "source": [
    "np.setdiff1d(n2,n1) #elements from n2 which are not present in n1"
   ]
  },
  {
   "cell_type": "markdown",
   "id": "4f944ed4",
   "metadata": {},
   "source": [
    "### Addition of arrays"
   ]
  },
  {
   "cell_type": "code",
   "execution_count": 30,
   "id": "144fb6ff",
   "metadata": {},
   "outputs": [
    {
     "data": {
      "text/plain": [
       "100"
      ]
     },
     "execution_count": 30,
     "metadata": {},
     "output_type": "execute_result"
    }
   ],
   "source": [
    "n1 = np.array([10,20])\n",
    "n2 = np.array([30,40])\n",
    "np.sum([n1,n2])"
   ]
  },
  {
   "cell_type": "code",
   "execution_count": 31,
   "id": "5b1435e4",
   "metadata": {},
   "outputs": [
    {
     "data": {
      "text/plain": [
       "array([40, 60])"
      ]
     },
     "execution_count": 31,
     "metadata": {},
     "output_type": "execute_result"
    }
   ],
   "source": [
    "#Add columns\n",
    "np.sum([n1,n2],axis=0)"
   ]
  },
  {
   "cell_type": "code",
   "execution_count": 32,
   "id": "aef41ba5",
   "metadata": {},
   "outputs": [
    {
     "data": {
      "text/plain": [
       "array([30, 70])"
      ]
     },
     "execution_count": 32,
     "metadata": {},
     "output_type": "execute_result"
    }
   ],
   "source": [
    "#Add Rows\n",
    "np.sum([n1,n2],axis=1)"
   ]
  },
  {
   "cell_type": "markdown",
   "id": "cb068ee0",
   "metadata": {},
   "source": [
    "### Basic Mathematics"
   ]
  },
  {
   "cell_type": "code",
   "execution_count": 33,
   "id": "0b9a315c",
   "metadata": {},
   "outputs": [
    {
     "data": {
      "text/plain": [
       "array([11, 21, 31])"
      ]
     },
     "execution_count": 33,
     "metadata": {},
     "output_type": "execute_result"
    }
   ],
   "source": [
    "#addition\n",
    "n1 = np.array([10,20,30])\n",
    "n1 = n1 + 1\n",
    "n1"
   ]
  },
  {
   "cell_type": "code",
   "execution_count": 34,
   "id": "88c9f9d8",
   "metadata": {},
   "outputs": [
    {
     "data": {
      "text/plain": [
       "array([10, 20, 30])"
      ]
     },
     "execution_count": 34,
     "metadata": {},
     "output_type": "execute_result"
    }
   ],
   "source": [
    "#Substraction\n",
    "n1 = n1 - 1\n",
    "n1"
   ]
  },
  {
   "cell_type": "code",
   "execution_count": 35,
   "id": "38bbb0c1",
   "metadata": {},
   "outputs": [
    {
     "data": {
      "text/plain": [
       "array([ 40,  80, 120])"
      ]
     },
     "execution_count": 35,
     "metadata": {},
     "output_type": "execute_result"
    }
   ],
   "source": [
    "#Multiplication\n",
    "n1 = n1*4\n",
    "n1"
   ]
  },
  {
   "cell_type": "code",
   "execution_count": 36,
   "id": "0f40c87a",
   "metadata": {},
   "outputs": [
    {
     "data": {
      "text/plain": [
       "array([20., 40., 60.])"
      ]
     },
     "execution_count": 36,
     "metadata": {},
     "output_type": "execute_result"
    }
   ],
   "source": [
    "#Division\n",
    "n1 = n1/2\n",
    "n1"
   ]
  },
  {
   "cell_type": "markdown",
   "id": "319bfb8b",
   "metadata": {},
   "source": [
    "### Basic Statistics"
   ]
  },
  {
   "cell_type": "code",
   "execution_count": 37,
   "id": "fb969dde",
   "metadata": {},
   "outputs": [
    {
     "data": {
      "text/plain": [
       "35.0"
      ]
     },
     "execution_count": 37,
     "metadata": {},
     "output_type": "execute_result"
    }
   ],
   "source": [
    "#Mean\n",
    "n1 = np.array([10,20,30,40,50,60])\n",
    "np.mean(n1)"
   ]
  },
  {
   "cell_type": "code",
   "execution_count": 38,
   "id": "d70572c6",
   "metadata": {},
   "outputs": [
    {
     "data": {
      "text/plain": [
       "30.0"
      ]
     },
     "execution_count": 38,
     "metadata": {},
     "output_type": "execute_result"
    }
   ],
   "source": [
    "#Median\n",
    "import numpy as np\n",
    "n1 = np.array([10,20,30,40,50])\n",
    "np.median(n1)"
   ]
  },
  {
   "cell_type": "code",
   "execution_count": 39,
   "id": "8f6675e9",
   "metadata": {},
   "outputs": [
    {
     "data": {
      "text/plain": [
       "14.142135623730951"
      ]
     },
     "execution_count": 39,
     "metadata": {},
     "output_type": "execute_result"
    }
   ],
   "source": [
    "#Standard Deviation\n",
    "np.std(n1)"
   ]
  },
  {
   "cell_type": "markdown",
   "id": "af8ae877",
   "metadata": {},
   "source": [
    "### Save and Load"
   ]
  },
  {
   "cell_type": "code",
   "execution_count": 40,
   "id": "e09c221a",
   "metadata": {},
   "outputs": [],
   "source": [
    "n1 = np.array([10,20,30,40,50])"
   ]
  },
  {
   "cell_type": "code",
   "execution_count": 49,
   "id": "2198ef35",
   "metadata": {},
   "outputs": [],
   "source": [
    "np.save('myarray',n1)"
   ]
  },
  {
   "cell_type": "code",
   "execution_count": 50,
   "id": "69820b84",
   "metadata": {},
   "outputs": [
    {
     "data": {
      "text/plain": [
       "array([10, 20, 30, 40, 50])"
      ]
     },
     "execution_count": 50,
     "metadata": {},
     "output_type": "execute_result"
    }
   ],
   "source": [
    "new_n1 = np.load('myarray.npy')\n",
    "new_n1"
   ]
  },
  {
   "cell_type": "code",
   "execution_count": null,
   "id": "bb83b9ea",
   "metadata": {},
   "outputs": [],
   "source": []
  }
 ],
 "metadata": {
  "kernelspec": {
   "display_name": "Python 3",
   "language": "python",
   "name": "python3"
  },
  "language_info": {
   "codemirror_mode": {
    "name": "ipython",
    "version": 3
   },
   "file_extension": ".py",
   "mimetype": "text/x-python",
   "name": "python",
   "nbconvert_exporter": "python",
   "pygments_lexer": "ipython3",
   "version": "3.8.8"
  }
 },
 "nbformat": 4,
 "nbformat_minor": 5
}
