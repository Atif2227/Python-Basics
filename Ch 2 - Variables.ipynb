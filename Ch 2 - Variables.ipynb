{
 "cells": [
  {
   "cell_type": "markdown",
   "id": "676e70ad",
   "metadata": {},
   "source": [
    "\n",
    "#### A variable is used to store a value. You can think of a variable as storage that has a name and stores some value."
   ]
  },
  {
   "cell_type": "code",
   "execution_count": 1,
   "id": "fbe73c28",
   "metadata": {},
   "outputs": [],
   "source": [
    "a = 10"
   ]
  },
  {
   "cell_type": "markdown",
   "id": "e03c3b18",
   "metadata": {},
   "source": [
    "#### Here a is a variable and 10 is the value of variable a."
   ]
  },
  {
   "cell_type": "code",
   "execution_count": 4,
   "id": "c58caf44",
   "metadata": {},
   "outputs": [
    {
     "name": "stdout",
     "output_type": "stream",
     "text": [
      "1\n",
      "Hello World\n"
     ]
    }
   ],
   "source": [
    "# declaring a variable count\n",
    "count = 1\n",
    "print(count)\n",
    "\n",
    "# reassigning value to the variable count\n",
    "count = \"Hello World\"\n",
    "print(count)"
   ]
  },
  {
   "cell_type": "code",
   "execution_count": 5,
   "id": "bf3d9466",
   "metadata": {},
   "outputs": [
    {
     "name": "stdout",
     "output_type": "stream",
     "text": [
      "1 2\n",
      "1\n",
      "2\n"
     ]
    }
   ],
   "source": [
    "#Assigning Values to Multiple Variables\n",
    "a=1\n",
    "b=2\n",
    "print(a,b)\n",
    "print (a)\n",
    "print(b)"
   ]
  },
  {
   "cell_type": "code",
   "execution_count": 6,
   "id": "65e315ed",
   "metadata": {},
   "outputs": [
    {
     "name": "stdout",
     "output_type": "stream",
     "text": [
      "20 10\n",
      "20\n",
      "10\n"
     ]
    }
   ],
   "source": [
    "#Swapping\n",
    "x = 10\n",
    "y = 20\n",
    "x,y = y,x\n",
    "print(x,y)\n",
    "print(x)\n",
    "print(y)"
   ]
  },
  {
   "cell_type": "code",
   "execution_count": 9,
   "id": "d8d81c75",
   "metadata": {},
   "outputs": [
    {
     "ename": "NameError",
     "evalue": "name 'color' is not defined",
     "output_type": "error",
     "traceback": [
      "\u001b[1;31m---------------------------------------------------------------------------\u001b[0m",
      "\u001b[1;31mNameError\u001b[0m                                 Traceback (most recent call last)",
      "\u001b[1;32m<ipython-input-9-d667fb088018>\u001b[0m in \u001b[0;36m<module>\u001b[1;34m\u001b[0m\n\u001b[0;32m      2\u001b[0m \u001b[0mcolor\u001b[0m \u001b[1;33m=\u001b[0m \u001b[1;34m\"Blue\"\u001b[0m\u001b[1;33m\u001b[0m\u001b[1;33m\u001b[0m\u001b[0m\n\u001b[0;32m      3\u001b[0m \u001b[1;32mdel\u001b[0m \u001b[0mcolor\u001b[0m\u001b[1;33m\u001b[0m\u001b[1;33m\u001b[0m\u001b[0m\n\u001b[1;32m----> 4\u001b[1;33m \u001b[0mprint\u001b[0m \u001b[1;33m(\u001b[0m\u001b[0mcolor\u001b[0m\u001b[1;33m)\u001b[0m \u001b[1;31m# It will give error as color variable has been deletd.\u001b[0m\u001b[1;33m\u001b[0m\u001b[1;33m\u001b[0m\u001b[0m\n\u001b[0m",
      "\u001b[1;31mNameError\u001b[0m: name 'color' is not defined"
     ]
    }
   ],
   "source": [
    "#Deleting Variables\n",
    "color = \"Blue\"\n",
    "del color \n",
    "print (color) # It will give error as color variable has been deletd."
   ]
  },
  {
   "cell_type": "markdown",
   "id": "0b6576e4",
   "metadata": {},
   "source": [
    "### Memory Management in Python"
   ]
  },
  {
   "cell_type": "markdown",
   "id": "fb53955f",
   "metadata": {},
   "source": [
    "#### In Python, when we use a variable, it is stored in the memory of the computer. For example, two variables having values 5 and 10 will be stored in two different memory locations by Python."
   ]
  },
  {
   "cell_type": "code",
   "execution_count": 10,
   "id": "1ab7bb71",
   "metadata": {},
   "outputs": [],
   "source": [
    "a = 10"
   ]
  },
  {
   "cell_type": "markdown",
   "id": "6df30419",
   "metadata": {},
   "source": [
    "#### We can check the memory location of a value by using the id() function."
   ]
  },
  {
   "cell_type": "code",
   "execution_count": 12,
   "id": "40b1b791",
   "metadata": {},
   "outputs": [
    {
     "name": "stdout",
     "output_type": "stream",
     "text": [
      "140703429765200\n",
      "140703429765520\n"
     ]
    }
   ],
   "source": [
    "a = 10\n",
    "b = 20\n",
    "print(id(a))  # printing memory location pointed by variable a\n",
    "print(id(b))  # printing memory location pointed by variable b"
   ]
  },
  {
   "cell_type": "markdown",
   "id": "f8baf5a4",
   "metadata": {},
   "source": [
    "#### This id will be different every time you run your program because a different memory in the CPU will be allocated everytime."
   ]
  }
 ],
 "metadata": {
  "kernelspec": {
   "display_name": "Python 3",
   "language": "python",
   "name": "python3"
  },
  "language_info": {
   "codemirror_mode": {
    "name": "ipython",
    "version": 3
   },
   "file_extension": ".py",
   "mimetype": "text/x-python",
   "name": "python",
   "nbconvert_exporter": "python",
   "pygments_lexer": "ipython3",
   "version": "3.8.8"
  }
 },
 "nbformat": 4,
 "nbformat_minor": 5
}
