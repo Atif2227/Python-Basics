{
 "cells": [
  {
   "cell_type": "markdown",
   "id": "7fbf37b3",
   "metadata": {},
   "source": [
    "# Data Types"
   ]
  },
  {
   "cell_type": "markdown",
   "id": "f5debb27",
   "metadata": {},
   "source": [
    "## There are mailnly 5 different data types"
   ]
  },
  {
   "cell_type": "markdown",
   "id": "38d8dd27",
   "metadata": {},
   "source": [
    "### 1.Integer (int)"
   ]
  },
  {
   "cell_type": "markdown",
   "id": "b6d077a1",
   "metadata": {},
   "source": [
    "#### Int is for integer. it is any non decimal number. Eg-1, 100 ,99, etc."
   ]
  },
  {
   "cell_type": "code",
   "execution_count": 2,
   "id": "66213c31",
   "metadata": {},
   "outputs": [
    {
     "data": {
      "text/plain": [
       "100"
      ]
     },
     "execution_count": 2,
     "metadata": {},
     "output_type": "execute_result"
    }
   ],
   "source": [
    "a1 = 100\n",
    "a1"
   ]
  },
  {
   "cell_type": "markdown",
   "id": "7323d828",
   "metadata": {},
   "source": [
    "## Type()"
   ]
  },
  {
   "cell_type": "markdown",
   "id": "7489cfc9",
   "metadata": {},
   "source": [
    "#### 'type()'is the command to check the type of variable."
   ]
  },
  {
   "cell_type": "code",
   "execution_count": 3,
   "id": "d6aec02c",
   "metadata": {},
   "outputs": [
    {
     "data": {
      "text/plain": [
       "int"
      ]
     },
     "execution_count": 3,
     "metadata": {},
     "output_type": "execute_result"
    }
   ],
   "source": [
    "type(a1) "
   ]
  },
  {
   "cell_type": "markdown",
   "id": "dbbad7d1",
   "metadata": {},
   "source": [
    "### 2. Float"
   ]
  },
  {
   "cell_type": "markdown",
   "id": "e6b4a06a",
   "metadata": {},
   "source": [
    "#### Floating point numbers are the ones having decimal. For example, 2.564728."
   ]
  },
  {
   "cell_type": "code",
   "execution_count": 4,
   "id": "f650d942",
   "metadata": {},
   "outputs": [
    {
     "data": {
      "text/plain": [
       "1.4"
      ]
     },
     "execution_count": 4,
     "metadata": {},
     "output_type": "execute_result"
    }
   ],
   "source": [
    "a1=1.4\n",
    "a1"
   ]
  },
  {
   "cell_type": "code",
   "execution_count": 35,
   "id": "980e1d51",
   "metadata": {},
   "outputs": [
    {
     "data": {
      "text/plain": [
       "float"
      ]
     },
     "execution_count": 35,
     "metadata": {},
     "output_type": "execute_result"
    }
   ],
   "source": [
    "type(a1)"
   ]
  },
  {
   "cell_type": "markdown",
   "id": "0b7f9355",
   "metadata": {},
   "source": [
    "### 3. Boolean"
   ]
  },
  {
   "cell_type": "markdown",
   "id": "12c6cf92",
   "metadata": {},
   "source": [
    "#### A Boolean data type consists of two values - True and False. These two values are also the keywords reserved by Python."
   ]
  },
  {
   "cell_type": "code",
   "execution_count": 5,
   "id": "e7713698",
   "metadata": {},
   "outputs": [
    {
     "data": {
      "text/plain": [
       "True"
      ]
     },
     "execution_count": 5,
     "metadata": {},
     "output_type": "execute_result"
    }
   ],
   "source": [
    "a1=True\n",
    "a1"
   ]
  },
  {
   "cell_type": "code",
   "execution_count": 6,
   "id": "81e426a2",
   "metadata": {},
   "outputs": [
    {
     "data": {
      "text/plain": [
       "bool"
      ]
     },
     "execution_count": 6,
     "metadata": {},
     "output_type": "execute_result"
    }
   ],
   "source": [
    "type(a1)"
   ]
  },
  {
   "cell_type": "code",
   "execution_count": 7,
   "id": "46cd9875",
   "metadata": {},
   "outputs": [
    {
     "data": {
      "text/plain": [
       "False"
      ]
     },
     "execution_count": 7,
     "metadata": {},
     "output_type": "execute_result"
    }
   ],
   "source": [
    "b1=False\n",
    "b1"
   ]
  },
  {
   "cell_type": "code",
   "execution_count": 39,
   "id": "88ac53ca",
   "metadata": {},
   "outputs": [
    {
     "data": {
      "text/plain": [
       "bool"
      ]
     },
     "execution_count": 39,
     "metadata": {},
     "output_type": "execute_result"
    }
   ],
   "source": [
    "type(b1)"
   ]
  },
  {
   "cell_type": "markdown",
   "id": "4586e2ef",
   "metadata": {},
   "source": [
    "### 4. String"
   ]
  },
  {
   "cell_type": "markdown",
   "id": "fbd1602d",
   "metadata": {},
   "source": [
    "#### It converts a value into a string, with the help of '', \"\", ''''''."
   ]
  },
  {
   "cell_type": "code",
   "execution_count": 9,
   "id": "5a6fc4bd",
   "metadata": {},
   "outputs": [
    {
     "ename": "SyntaxError",
     "evalue": "invalid syntax (<ipython-input-9-eeaff0091e63>, line 1)",
     "output_type": "error",
     "traceback": [
      "\u001b[1;36m  File \u001b[1;32m\"<ipython-input-9-eeaff0091e63>\"\u001b[1;36m, line \u001b[1;32m1\u001b[0m\n\u001b[1;33m    a1= Hello Pal\u001b[0m\n\u001b[1;37m              ^\u001b[0m\n\u001b[1;31mSyntaxError\u001b[0m\u001b[1;31m:\u001b[0m invalid syntax\n"
     ]
    }
   ],
   "source": [
    "a1 = Hello Pal\n",
    "a1     # Gives error as Hello Pal is not enclosed with any type of comas."
   ]
  },
  {
   "cell_type": "code",
   "execution_count": 10,
   "id": "e084a2af",
   "metadata": {},
   "outputs": [
    {
     "data": {
      "text/plain": [
       "'Hello Pal'"
      ]
     },
     "execution_count": 10,
     "metadata": {},
     "output_type": "execute_result"
    }
   ],
   "source": [
    "a1 = 'Hello Pal'\n",
    "a1"
   ]
  },
  {
   "cell_type": "code",
   "execution_count": 11,
   "id": "3f954d03",
   "metadata": {},
   "outputs": [
    {
     "data": {
      "text/plain": [
       "str"
      ]
     },
     "execution_count": 11,
     "metadata": {},
     "output_type": "execute_result"
    }
   ],
   "source": [
    "type(a1)"
   ]
  },
  {
   "cell_type": "code",
   "execution_count": 14,
   "id": "3c517b25",
   "metadata": {},
   "outputs": [
    {
     "data": {
      "text/plain": [
       "'Hello Pal'"
      ]
     },
     "execution_count": 14,
     "metadata": {},
     "output_type": "execute_result"
    }
   ],
   "source": [
    "a1 = \"Hello Pal\"\n",
    "a1"
   ]
  },
  {
   "cell_type": "code",
   "execution_count": 15,
   "id": "9f359435",
   "metadata": {},
   "outputs": [
    {
     "data": {
      "text/plain": [
       "str"
      ]
     },
     "execution_count": 15,
     "metadata": {},
     "output_type": "execute_result"
    }
   ],
   "source": [
    "type(a1)"
   ]
  },
  {
   "cell_type": "code",
   "execution_count": 17,
   "id": "c742978e",
   "metadata": {},
   "outputs": [
    {
     "data": {
      "text/plain": [
       "'Hello Pal'"
      ]
     },
     "execution_count": 17,
     "metadata": {},
     "output_type": "execute_result"
    }
   ],
   "source": [
    "a1 = '''Hello Pal'''\n",
    "a1"
   ]
  },
  {
   "cell_type": "code",
   "execution_count": 18,
   "id": "368951c4",
   "metadata": {},
   "outputs": [
    {
     "data": {
      "text/plain": [
       "str"
      ]
     },
     "execution_count": 18,
     "metadata": {},
     "output_type": "execute_result"
    }
   ],
   "source": [
    "type(a1)"
   ]
  },
  {
   "cell_type": "markdown",
   "id": "2c8a3962",
   "metadata": {},
   "source": [
    "### 5. complex"
   ]
  },
  {
   "cell_type": "markdown",
   "id": "0fc09918",
   "metadata": {},
   "source": [
    "#### Complex numbers, as in Mathematics, have the form a + bj, where a is the real part and b is the imaginary part. For example, 2 + 3j, 6j."
   ]
  },
  {
   "cell_type": "code",
   "execution_count": 19,
   "id": "2ac848f3",
   "metadata": {},
   "outputs": [
    {
     "data": {
      "text/plain": [
       "(3+4j)"
      ]
     },
     "execution_count": 19,
     "metadata": {},
     "output_type": "execute_result"
    }
   ],
   "source": [
    "a1=3+4j\n",
    "a1"
   ]
  },
  {
   "cell_type": "code",
   "execution_count": 20,
   "id": "234d7dda",
   "metadata": {},
   "outputs": [
    {
     "data": {
      "text/plain": [
       "complex"
      ]
     },
     "execution_count": 20,
     "metadata": {},
     "output_type": "execute_result"
    }
   ],
   "source": [
    "type(a1)"
   ]
  }
 ],
 "metadata": {
  "kernelspec": {
   "display_name": "Python 3",
   "language": "python",
   "name": "python3"
  },
  "language_info": {
   "codemirror_mode": {
    "name": "ipython",
    "version": 3
   },
   "file_extension": ".py",
   "mimetype": "text/x-python",
   "name": "python",
   "nbconvert_exporter": "python",
   "pygments_lexer": "ipython3",
   "version": "3.8.8"
  }
 },
 "nbformat": 4,
 "nbformat_minor": 5
}
