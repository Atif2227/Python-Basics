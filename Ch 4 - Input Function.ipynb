{
 "cells": [
  {
   "cell_type": "markdown",
   "id": "d1cfa409",
   "metadata": {},
   "source": [
    "#### Till now, we have assigned values to variables in the code. However, there can be times when we want the user to enter the value which has to be assigned to a variable. Take an example of a calculator in which the user enters the values to be added or subtracted."
   ]
  },
  {
   "cell_type": "code",
   "execution_count": 1,
   "id": "7d6b62c2",
   "metadata": {},
   "outputs": [
    {
     "name": "stdout",
     "output_type": "stream",
     "text": [
      "1\n"
     ]
    },
    {
     "data": {
      "text/plain": [
       "'1'"
      ]
     },
     "execution_count": 1,
     "metadata": {},
     "output_type": "execute_result"
    }
   ],
   "source": [
    "input()"
   ]
  },
  {
   "cell_type": "code",
   "execution_count": null,
   "id": "f4cf025a",
   "metadata": {},
   "outputs": [],
   "source": [
    "Name = input()"
   ]
  },
  {
   "cell_type": "markdown",
   "id": "90c1342d",
   "metadata": {},
   "source": [
    "#### We can also print a message on the screen while asking the user for input by passing that message to the input() function."
   ]
  },
  {
   "cell_type": "code",
   "execution_count": 1,
   "id": "a7c290a6",
   "metadata": {},
   "outputs": [
    {
     "name": "stdout",
     "output_type": "stream",
     "text": [
      "What is your name ? Shila\n"
     ]
    }
   ],
   "source": [
    "Name = input(\"What is your name ? \")"
   ]
  },
  {
   "cell_type": "code",
   "execution_count": 10,
   "id": "848edf13",
   "metadata": {},
   "outputs": [
    {
     "name": "stdout",
     "output_type": "stream",
     "text": [
      "Enter your name - Shila\n",
      "Enter your age - 16\n",
      "Your name is Shila  & Your age is 16\n"
     ]
    }
   ],
   "source": [
    "x = input(\"Enter your name - \")\n",
    "y = input(\"Enter your age - \")\n",
    "print(\"Your name is\", x, \" & Your age is\", y)"
   ]
  },
  {
   "cell_type": "markdown",
   "id": "21c3abf6",
   "metadata": {},
   "source": [
    "#### By default, any input entered by the user is of type string."
   ]
  },
  {
   "cell_type": "code",
   "execution_count": 8,
   "id": "e5fd3e24",
   "metadata": {},
   "outputs": [
    {
     "name": "stdout",
     "output_type": "stream",
     "text": [
      "2.5\n"
     ]
    }
   ],
   "source": [
    "Any = input()"
   ]
  },
  {
   "cell_type": "code",
   "execution_count": 9,
   "id": "e3c14f29",
   "metadata": {},
   "outputs": [
    {
     "data": {
      "text/plain": [
       "str"
      ]
     },
     "execution_count": 9,
     "metadata": {},
     "output_type": "execute_result"
    }
   ],
   "source": [
    "type()"
   ]
  },
  {
   "cell_type": "markdown",
   "id": "a48082b8",
   "metadata": {},
   "source": [
    "#### Taking Integer Input"
   ]
  },
  {
   "cell_type": "code",
   "execution_count": 11,
   "id": "be921e9c",
   "metadata": {},
   "outputs": [
    {
     "name": "stdout",
     "output_type": "stream",
     "text": [
      "Enter an Integer1\n",
      "You Have entered 1\n"
     ]
    }
   ],
   "source": [
    "x = int(input(\"Enter an Integer\"))\n",
    "print (\"You Have entered\", x)"
   ]
  },
  {
   "cell_type": "code",
   "execution_count": 12,
   "id": "d72d9aa5",
   "metadata": {},
   "outputs": [
    {
     "data": {
      "text/plain": [
       "int"
      ]
     },
     "execution_count": 12,
     "metadata": {},
     "output_type": "execute_result"
    }
   ],
   "source": [
    "type(x)"
   ]
  },
  {
   "cell_type": "markdown",
   "id": "2ed5c063",
   "metadata": {},
   "source": [
    "#### Taking Float (Decimals) Input "
   ]
  },
  {
   "cell_type": "code",
   "execution_count": 13,
   "id": "f69c42fb",
   "metadata": {},
   "outputs": [
    {
     "name": "stdout",
     "output_type": "stream",
     "text": [
      "Enter an Flaoting number8.97\n",
      "You have entered 8.97\n"
     ]
    }
   ],
   "source": [
    "x = float(input(\"Enter an Flaoting number\"))\n",
    "print (\"You have entered\", x)"
   ]
  },
  {
   "cell_type": "code",
   "execution_count": 14,
   "id": "77701d36",
   "metadata": {},
   "outputs": [
    {
     "data": {
      "text/plain": [
       "float"
      ]
     },
     "execution_count": 14,
     "metadata": {},
     "output_type": "execute_result"
    }
   ],
   "source": [
    "type(x)"
   ]
  },
  {
   "cell_type": "markdown",
   "id": "e8a5b4ec",
   "metadata": {},
   "source": [
    "### Let your computer do some maths for you"
   ]
  },
  {
   "cell_type": "code",
   "execution_count": 16,
   "id": "0a3e448e",
   "metadata": {},
   "outputs": [
    {
     "name": "stdout",
     "output_type": "stream",
     "text": [
      "-0.9880316240928618\n",
      "-0.8390715290764524\n",
      "125.0\n"
     ]
    }
   ],
   "source": [
    "import math\n",
    "print(math.sin(30))\n",
    "print(math.cos(10))\n",
    "print(math.pow(5,3))"
   ]
  }
 ],
 "metadata": {
  "kernelspec": {
   "display_name": "Python 3",
   "language": "python",
   "name": "python3"
  },
  "language_info": {
   "codemirror_mode": {
    "name": "ipython",
    "version": 3
   },
   "file_extension": ".py",
   "mimetype": "text/x-python",
   "name": "python",
   "nbconvert_exporter": "python",
   "pygments_lexer": "ipython3",
   "version": "3.8.8"
  }
 },
 "nbformat": 4,
 "nbformat_minor": 5
}
