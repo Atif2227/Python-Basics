{
 "cells": [
  {
   "cell_type": "markdown",
   "id": "9cbdac4e",
   "metadata": {},
   "source": [
    "# Mainly 3 Operators"
   ]
  },
  {
   "cell_type": "markdown",
   "id": "fb66e7f7",
   "metadata": {},
   "source": [
    "## 1. Arithmatic"
   ]
  },
  {
   "cell_type": "markdown",
   "id": "bc8d812e",
   "metadata": {},
   "source": [
    "## 2. Relational"
   ]
  },
  {
   "cell_type": "markdown",
   "id": "13916c2f",
   "metadata": {},
   "source": [
    "## 3. Logical"
   ]
  },
  {
   "cell_type": "markdown",
   "id": "b216da24",
   "metadata": {},
   "source": [
    "## Other operators are - Assignment, Identity and Membership"
   ]
  },
  {
   "cell_type": "markdown",
   "id": "640d9ee0",
   "metadata": {},
   "source": [
    "### 1. Arithmatic Operators"
   ]
  },
  {
   "cell_type": "code",
   "execution_count": 2,
   "id": "6baff7d6",
   "metadata": {},
   "outputs": [
    {
     "name": "stdout",
     "output_type": "stream",
     "text": [
      "sum = 14\n",
      "difference = 8\n",
      "product = 33\n",
      "quotient = 3.6666666666666665\n",
      "quotient (integer) = 3\n",
      "remainder = 2\n",
      "power = 1331\n"
     ]
    }
   ],
   "source": [
    "a = 11\n",
    "b = 3\n",
    "print(\"sum =\", a + b)\n",
    "print(\"difference =\", a - b)\n",
    "print(\"product =\", a * b)\n",
    "print(\"quotient =\", a / b)\n",
    "print(\"quotient (integer) =\", a // b)\n",
    "print(\"remainder =\", a % b)\n",
    "print(\"power =\", a ** b)"
   ]
  },
  {
   "cell_type": "markdown",
   "id": "b0cb3278",
   "metadata": {},
   "source": [
    "### 2. Relational Operators"
   ]
  },
  {
   "cell_type": "markdown",
   "id": "503ca863",
   "metadata": {},
   "source": [
    "#### Relational Operators check the relationship between two operands. They return True if the relationship is true and False if it is false."
   ]
  },
  {
   "cell_type": "code",
   "execution_count": 11,
   "id": "2a5a08c0",
   "metadata": {},
   "outputs": [
    {
     "data": {
      "text/plain": [
       "False"
      ]
     },
     "execution_count": 11,
     "metadata": {},
     "output_type": "execute_result"
    }
   ],
   "source": [
    "a<b"
   ]
  },
  {
   "cell_type": "code",
   "execution_count": 12,
   "id": "9861ac7d",
   "metadata": {},
   "outputs": [
    {
     "data": {
      "text/plain": [
       "True"
      ]
     },
     "execution_count": 12,
     "metadata": {},
     "output_type": "execute_result"
    }
   ],
   "source": [
    "a>b"
   ]
  },
  {
   "cell_type": "code",
   "execution_count": 13,
   "id": "824b32f3",
   "metadata": {},
   "outputs": [
    {
     "data": {
      "text/plain": [
       "False"
      ]
     },
     "execution_count": 13,
     "metadata": {},
     "output_type": "execute_result"
    }
   ],
   "source": [
    "a==b"
   ]
  },
  {
   "cell_type": "code",
   "execution_count": 14,
   "id": "044ecb26",
   "metadata": {},
   "outputs": [
    {
     "data": {
      "text/plain": [
       "True"
      ]
     },
     "execution_count": 14,
     "metadata": {},
     "output_type": "execute_result"
    }
   ],
   "source": [
    "a!=b"
   ]
  },
  {
   "cell_type": "code",
   "execution_count": 3,
   "id": "746afb84",
   "metadata": {},
   "outputs": [
    {
     "name": "stdout",
     "output_type": "stream",
     "text": [
      "(a == b) : False\n",
      "(a != b) : True\n",
      "(a > b) : True\n",
      "(a < b) : False\n",
      "(a >= b) : True\n",
      "(a <= b) : False\n"
     ]
    }
   ],
   "source": [
    "a = 3\n",
    "b = 2\n",
    "print(\"(a == b) :\", a == b)\n",
    "print(\"(a != b) :\", a != b)\n",
    "print(\"(a > b) :\", a > b)\n",
    "print(\"(a < b) :\", a < b)\n",
    "print(\"(a >= b) :\", a >= b)\n",
    "print(\"(a <= b) :\", a <= b)"
   ]
  },
  {
   "cell_type": "markdown",
   "id": "bf32165c",
   "metadata": {},
   "source": [
    "### 3. Logical Operators "
   ]
  },
  {
   "cell_type": "markdown",
   "id": "8f46bfca",
   "metadata": {},
   "source": [
    "#### and (&), or (/)"
   ]
  },
  {
   "cell_type": "code",
   "execution_count": 28,
   "id": "010f2455",
   "metadata": {},
   "outputs": [],
   "source": [
    "a=True\n",
    "b=False"
   ]
  },
  {
   "cell_type": "code",
   "execution_count": 18,
   "id": "b07a75df",
   "metadata": {},
   "outputs": [
    {
     "data": {
      "text/plain": [
       "True"
      ]
     },
     "execution_count": 18,
     "metadata": {},
     "output_type": "execute_result"
    }
   ],
   "source": [
    "a&a #True&True is True"
   ]
  },
  {
   "cell_type": "code",
   "execution_count": 19,
   "id": "0e00bc3c",
   "metadata": {},
   "outputs": [
    {
     "data": {
      "text/plain": [
       "False"
      ]
     },
     "execution_count": 19,
     "metadata": {},
     "output_type": "execute_result"
    }
   ],
   "source": [
    " a&b"
   ]
  },
  {
   "cell_type": "code",
   "execution_count": 20,
   "id": "41db8ca1",
   "metadata": {},
   "outputs": [
    {
     "data": {
      "text/plain": [
       "True"
      ]
     },
     "execution_count": 20,
     "metadata": {},
     "output_type": "execute_result"
    }
   ],
   "source": [
    "a|b"
   ]
  },
  {
   "cell_type": "code",
   "execution_count": 21,
   "id": "29949a6b",
   "metadata": {},
   "outputs": [
    {
     "data": {
      "text/plain": [
       "True"
      ]
     },
     "execution_count": 21,
     "metadata": {},
     "output_type": "execute_result"
    }
   ],
   "source": [
    "b|a"
   ]
  },
  {
   "cell_type": "code",
   "execution_count": null,
   "id": "e35ae3f8",
   "metadata": {},
   "outputs": [],
   "source": [
    "#Why True Here? In the mix of operands, if any any operand has stored true in it the final result will always be 'True'.\n",
    "#In this case, among 'a' & 'b', 'a' has stared 'Ture' "
   ]
  },
  {
   "cell_type": "code",
   "execution_count": 29,
   "id": "fef1e700",
   "metadata": {},
   "outputs": [
    {
     "data": {
      "text/plain": [
       "True"
      ]
     },
     "execution_count": 29,
     "metadata": {},
     "output_type": "execute_result"
    }
   ],
   "source": [
    "a|a"
   ]
  },
  {
   "cell_type": "code",
   "execution_count": 30,
   "id": "78af4c8c",
   "metadata": {},
   "outputs": [
    {
     "data": {
      "text/plain": [
       "False"
      ]
     },
     "execution_count": 30,
     "metadata": {},
     "output_type": "execute_result"
    }
   ],
   "source": [
    "b|b"
   ]
  },
  {
   "cell_type": "code",
   "execution_count": 4,
   "id": "f05bdf71",
   "metadata": {},
   "outputs": [
    {
     "name": "stdout",
     "output_type": "stream",
     "text": [
      "True\n",
      "True\n"
     ]
    }
   ],
   "source": [
    "x = 10\n",
    "y = 20\n",
    "print(x == 10 and y == 20)\n",
    "print(x == 3 or y == 20)"
   ]
  },
  {
   "cell_type": "code",
   "execution_count": 5,
   "id": "bbac6989",
   "metadata": {},
   "outputs": [
    {
     "name": "stdout",
     "output_type": "stream",
     "text": [
      "False\n",
      "False\n"
     ]
    }
   ],
   "source": [
    "x = 10\n",
    "y = 20\n",
    "print(not(x == 10 and y == 20))\n",
    "print(not(x == 3 or y == 20))"
   ]
  }
 ],
 "metadata": {
  "kernelspec": {
   "display_name": "Python 3",
   "language": "python",
   "name": "python3"
  },
  "language_info": {
   "codemirror_mode": {
    "name": "ipython",
    "version": 3
   },
   "file_extension": ".py",
   "mimetype": "text/x-python",
   "name": "python",
   "nbconvert_exporter": "python",
   "pygments_lexer": "ipython3",
   "version": "3.8.8"
  }
 },
 "nbformat": 4,
 "nbformat_minor": 5
}
