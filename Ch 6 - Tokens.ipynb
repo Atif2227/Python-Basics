{
 "cells": [
  {
   "cell_type": "markdown",
   "id": "5f985c57",
   "metadata": {},
   "source": [
    "# In Python tokens are the smallest meaningfull component in program"
   ]
  },
  {
   "cell_type": "markdown",
   "id": "c17494da",
   "metadata": {},
   "source": [
    "## Mainly 4 types"
   ]
  },
  {
   "cell_type": "markdown",
   "id": "c300e842",
   "metadata": {},
   "source": [
    "### 1: Keywords (Discussed in Chapter - 1)"
   ]
  },
  {
   "cell_type": "markdown",
   "id": "21fa174b",
   "metadata": {},
   "source": [
    "### 2: Identifiers"
   ]
  },
  {
   "cell_type": "markdown",
   "id": "9e1ff3db",
   "metadata": {},
   "source": [
    "### 3: Literals"
   ]
  },
  {
   "cell_type": "markdown",
   "id": "2d8b623e",
   "metadata": {},
   "source": [
    "### 4: Operators (Discussed in Ch - 5)"
   ]
  },
  {
   "cell_type": "markdown",
   "id": "b8169023",
   "metadata": {},
   "source": [
    "### -----------------------------------------------------------------------------------------------------"
   ]
  },
  {
   "cell_type": "markdown",
   "id": "727466e4",
   "metadata": {},
   "source": [
    "### 2: Identifiers - These are the names given to any variable, function, class, list, methods, etc. for their identification. But it has 3 Rules"
   ]
  },
  {
   "cell_type": "markdown",
   "id": "38a27384",
   "metadata": {},
   "source": [
    "### 1: No special characters except '_' (underscore)"
   ]
  },
  {
   "cell_type": "markdown",
   "id": "4b41ccf6",
   "metadata": {},
   "source": [
    "### 2. Identifiers are case sensitive. Therefore, Apple and apple are two different identifiers."
   ]
  },
  {
   "cell_type": "code",
   "execution_count": 5,
   "id": "52cf98d7",
   "metadata": {},
   "outputs": [
    {
     "name": "stdout",
     "output_type": "stream",
     "text": [
      "Shila & Munni\n"
     ]
    }
   ],
   "source": [
    "# Example\n",
    "Student=\"Munni\"\n",
    "student=\"Shila\"\n",
    "print(student, \"&\", Student)"
   ]
  },
  {
   "cell_type": "markdown",
   "id": "065e248c",
   "metadata": {},
   "source": [
    "### 3. first letter can not be a digt."
   ]
  },
  {
   "cell_type": "code",
   "execution_count": 6,
   "id": "86c55601",
   "metadata": {},
   "outputs": [
    {
     "ename": "SyntaxError",
     "evalue": "invalid syntax (<ipython-input-6-424b75b75939>, line 2)",
     "output_type": "error",
     "traceback": [
      "\u001b[1;36m  File \u001b[1;32m\"<ipython-input-6-424b75b75939>\"\u001b[1;36m, line \u001b[1;32m2\u001b[0m\n\u001b[1;33m    2apple = 2\u001b[0m\n\u001b[1;37m     ^\u001b[0m\n\u001b[1;31mSyntaxError\u001b[0m\u001b[1;31m:\u001b[0m invalid syntax\n"
     ]
    }
   ],
   "source": [
    "#Example\n",
    "2apple = 2\n",
    "2apple"
   ]
  },
  {
   "cell_type": "markdown",
   "id": "5292b8d0",
   "metadata": {},
   "source": [
    "### 3. Literals - The constant values and cannot be changed."
   ]
  },
  {
   "cell_type": "code",
   "execution_count": 7,
   "id": "39dbcdfa",
   "metadata": {},
   "outputs": [
    {
     "name": "stdout",
     "output_type": "stream",
     "text": [
      "1.2\n",
      "Shila\n",
      "True\n"
     ]
    }
   ],
   "source": [
    "#Example\n",
    "a=1.2\n",
    "b=\"Shila\"\n",
    "c=True\n",
    "print (a)\n",
    "print (b)\n",
    "print (c) "
   ]
  },
  {
   "cell_type": "markdown",
   "id": "34ab981f",
   "metadata": {},
   "source": [
    "#### Literal can be numeric(integer, Float & Character), string, boolean, none (Special literal, used to denote nothing or no value)."
   ]
  }
 ],
 "metadata": {
  "kernelspec": {
   "display_name": "Python 3",
   "language": "python",
   "name": "python3"
  },
  "language_info": {
   "codemirror_mode": {
    "name": "ipython",
    "version": 3
   },
   "file_extension": ".py",
   "mimetype": "text/x-python",
   "name": "python",
   "nbconvert_exporter": "python",
   "pygments_lexer": "ipython3",
   "version": "3.8.8"
  }
 },
 "nbformat": 4,
 "nbformat_minor": 5
}
