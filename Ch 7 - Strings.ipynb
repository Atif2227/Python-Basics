{
 "cells": [
  {
   "cell_type": "markdown",
   "id": "fb81e4f9",
   "metadata": {},
   "source": [
    "# String: '', \"\" ,''''''"
   ]
  },
  {
   "cell_type": "code",
   "execution_count": 2,
   "id": "77ee16d6",
   "metadata": {},
   "outputs": [
    {
     "data": {
      "text/plain": [
       "'Hello World'"
      ]
     },
     "execution_count": 2,
     "metadata": {},
     "output_type": "execute_result"
    }
   ],
   "source": [
    "str_1='Hello World'\n",
    "str_1"
   ]
  },
  {
   "cell_type": "code",
   "execution_count": 3,
   "id": "0e452358",
   "metadata": {},
   "outputs": [
    {
     "data": {
      "text/plain": [
       "'Hello World'"
      ]
     },
     "execution_count": 3,
     "metadata": {},
     "output_type": "execute_result"
    }
   ],
   "source": [
    "str1 = \"Hello World\"\n",
    "str1"
   ]
  },
  {
   "cell_type": "code",
   "execution_count": 4,
   "id": "5b3dcd10",
   "metadata": {},
   "outputs": [
    {
     "data": {
      "text/plain": [
       "'This sencence\\nhas many\\nlines\\nin it.\\n'"
      ]
     },
     "execution_count": 4,
     "metadata": {},
     "output_type": "execute_result"
    }
   ],
   "source": [
    "str2='''This sencence\n",
    "has many\n",
    "lines\n",
    "in it.\n",
    "'''\n",
    "str2"
   ]
  },
  {
   "cell_type": "code",
   "execution_count": 6,
   "id": "7df65471",
   "metadata": {},
   "outputs": [
    {
     "data": {
      "text/plain": [
       "'H'"
      ]
     },
     "execution_count": 6,
     "metadata": {},
     "output_type": "execute_result"
    }
   ],
   "source": [
    "#Extracting Individual Character\n",
    "str1=\"Her name is Shila\"\n",
    "#In python index number strts with '0'(Zero) and space is also counted.\n",
    "#1st index = o, Last index = -1\n",
    "str1[0]"
   ]
  },
  {
   "cell_type": "code",
   "execution_count": 8,
   "id": "a6257aa2",
   "metadata": {},
   "outputs": [
    {
     "data": {
      "text/plain": [
       "'a'"
      ]
     },
     "execution_count": 8,
     "metadata": {},
     "output_type": "execute_result"
    }
   ],
   "source": [
    "str1[-1]"
   ]
  },
  {
   "cell_type": "code",
   "execution_count": 11,
   "id": "34691bac",
   "metadata": {},
   "outputs": [
    {
     "data": {
      "text/plain": [
       "' '"
      ]
     },
     "execution_count": 11,
     "metadata": {},
     "output_type": "execute_result"
    }
   ],
   "source": [
    "str1[8] #(8th is space)"
   ]
  },
  {
   "cell_type": "code",
   "execution_count": 12,
   "id": "81159c75",
   "metadata": {},
   "outputs": [
    {
     "data": {
      "text/plain": [
       "'s'"
      ]
     },
     "execution_count": 12,
     "metadata": {},
     "output_type": "execute_result"
    }
   ],
   "source": [
    "str1 [10]"
   ]
  },
  {
   "cell_type": "code",
   "execution_count": 13,
   "id": "995c3bb5",
   "metadata": {},
   "outputs": [],
   "source": [
    "#String Functions"
   ]
  },
  {
   "cell_type": "code",
   "execution_count": 14,
   "id": "ac7264a7",
   "metadata": {},
   "outputs": [
    {
     "data": {
      "text/plain": [
       "17"
      ]
     },
     "execution_count": 14,
     "metadata": {},
     "output_type": "execute_result"
    }
   ],
   "source": [
    "#len (Length of string)\n",
    "len(str1)"
   ]
  },
  {
   "cell_type": "code",
   "execution_count": 15,
   "id": "3eb6ff7c",
   "metadata": {},
   "outputs": [
    {
     "data": {
      "text/plain": [
       "'her name is shila'"
      ]
     },
     "execution_count": 15,
     "metadata": {},
     "output_type": "execute_result"
    }
   ],
   "source": [
    "#lower (Makes each alphabet in lower case)\n",
    "str1.lower()"
   ]
  },
  {
   "cell_type": "code",
   "execution_count": 16,
   "id": "0d4103f2",
   "metadata": {},
   "outputs": [
    {
     "data": {
      "text/plain": [
       "'HER NAME IS SHILA'"
      ]
     },
     "execution_count": 16,
     "metadata": {},
     "output_type": "execute_result"
    }
   ],
   "source": [
    "#upper (Makes each alphabet in upper case)\n",
    "str1.upper()"
   ]
  },
  {
   "cell_type": "code",
   "execution_count": 19,
   "id": "038ff8e1",
   "metadata": {},
   "outputs": [
    {
     "data": {
      "text/plain": [
       "'Her name iy Shila'"
      ]
     },
     "execution_count": 19,
     "metadata": {},
     "output_type": "execute_result"
    }
   ],
   "source": [
    "#replace (Replace one element with other)\n",
    "str1.replace('s','y')"
   ]
  },
  {
   "cell_type": "code",
   "execution_count": null,
   "id": "58934be3",
   "metadata": {},
   "outputs": [],
   "source": [
    "#count (Counts the number of occurance of the asked element)"
   ]
  },
  {
   "cell_type": "code",
   "execution_count": 22,
   "id": "0ae7ab9a",
   "metadata": {},
   "outputs": [
    {
     "data": {
      "text/plain": [
       "3"
      ]
     },
     "execution_count": 22,
     "metadata": {},
     "output_type": "execute_result"
    }
   ],
   "source": [
    "str2=\"Hello Hello Hello Shila\"\n",
    "str2.count('Hello')"
   ]
  },
  {
   "cell_type": "code",
   "execution_count": 24,
   "id": "bb7518fe",
   "metadata": {},
   "outputs": [
    {
     "data": {
      "text/plain": [
       "4"
      ]
     },
     "execution_count": 24,
     "metadata": {},
     "output_type": "execute_result"
    }
   ],
   "source": [
    "#find (finds the index vale of any character)\n",
    "st1=(\"Her name is Shila\")\n",
    "str1.find('name')"
   ]
  },
  {
   "cell_type": "code",
   "execution_count": 25,
   "id": "c3573e3d",
   "metadata": {},
   "outputs": [
    {
     "data": {
      "text/plain": [
       "4"
      ]
     },
     "execution_count": 25,
     "metadata": {},
     "output_type": "execute_result"
    }
   ],
   "source": [
    "str1.find('n')"
   ]
  },
  {
   "cell_type": "code",
   "execution_count": null,
   "id": "910e3fc5",
   "metadata": {},
   "outputs": [],
   "source": [
    "#split "
   ]
  },
  {
   "cell_type": "code",
   "execution_count": 27,
   "id": "9cd82703",
   "metadata": {},
   "outputs": [
    {
     "data": {
      "text/plain": [
       "['Munni likes apple', ' banana and oranges']"
      ]
     },
     "execution_count": 27,
     "metadata": {},
     "output_type": "execute_result"
    }
   ],
   "source": [
    "str3 = \"Munni likes apple, banana and oranges\"\n",
    "str3.split(',')"
   ]
  },
  {
   "cell_type": "code",
   "execution_count": 28,
   "id": "0a38191e",
   "metadata": {},
   "outputs": [
    {
     "data": {
      "text/plain": [
       "['Munni likes ', 'pple, b', 'n', 'n', ' ', 'nd or', 'nges']"
      ]
     },
     "execution_count": 28,
     "metadata": {},
     "output_type": "execute_result"
    }
   ],
   "source": [
    "str3.split('a')"
   ]
  },
  {
   "cell_type": "code",
   "execution_count": 29,
   "id": "03ea1ab6",
   "metadata": {},
   "outputs": [
    {
     "data": {
      "text/plain": [
       "['Munni', 'likes', 'apple,', 'banana', 'and', 'oranges']"
      ]
     },
     "execution_count": 29,
     "metadata": {},
     "output_type": "execute_result"
    }
   ],
   "source": [
    "str3.split(' ') #(' ' this is space)"
   ]
  }
 ],
 "metadata": {
  "kernelspec": {
   "display_name": "Python 3",
   "language": "python",
   "name": "python3"
  },
  "language_info": {
   "codemirror_mode": {
    "name": "ipython",
    "version": 3
   },
   "file_extension": ".py",
   "mimetype": "text/x-python",
   "name": "python",
   "nbconvert_exporter": "python",
   "pygments_lexer": "ipython3",
   "version": "3.8.8"
  }
 },
 "nbformat": 4,
 "nbformat_minor": 5
}
