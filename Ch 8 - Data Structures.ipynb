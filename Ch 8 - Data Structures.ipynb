{
 "cells": [
  {
   "cell_type": "markdown",
   "id": "db9f2c99",
   "metadata": {},
   "source": [
    "# Data Structure"
   ]
  },
  {
   "cell_type": "markdown",
   "id": "db3a81a2",
   "metadata": {},
   "source": [
    "## Tuple, List, Dictionary and Set"
   ]
  },
  {
   "cell_type": "markdown",
   "id": "26bcb74e",
   "metadata": {},
   "source": [
    "### 1. Tuple : odered collection of elements enclosed within() and Tuples are immutable."
   ]
  },
  {
   "cell_type": "code",
   "execution_count": 1,
   "id": "dd484856",
   "metadata": {},
   "outputs": [
    {
     "data": {
      "text/plain": [
       "(1, 2.4, 'Boy', (3+7j), True)"
      ]
     },
     "execution_count": 1,
     "metadata": {},
     "output_type": "execute_result"
    }
   ],
   "source": [
    "tup1 = (1,2.4,\"Boy\",3+7j,True)\n",
    "tup1"
   ]
  },
  {
   "cell_type": "code",
   "execution_count": 2,
   "id": "0db35a23",
   "metadata": {},
   "outputs": [
    {
     "data": {
      "text/plain": [
       "tuple"
      ]
     },
     "execution_count": 2,
     "metadata": {},
     "output_type": "execute_result"
    }
   ],
   "source": [
    "type(tup1)"
   ]
  },
  {
   "cell_type": "markdown",
   "id": "4b9d2261",
   "metadata": {},
   "source": [
    "#### Extracting individual elements (Works same as strings)"
   ]
  },
  {
   "cell_type": "code",
   "execution_count": 3,
   "id": "c2dbcd83",
   "metadata": {},
   "outputs": [
    {
     "data": {
      "text/plain": [
       "2.4"
      ]
     },
     "execution_count": 3,
     "metadata": {},
     "output_type": "execute_result"
    }
   ],
   "source": [
    "tup1[1]"
   ]
  },
  {
   "cell_type": "code",
   "execution_count": 4,
   "id": "4ae09ef4",
   "metadata": {},
   "outputs": [
    {
     "data": {
      "text/plain": [
       "1"
      ]
     },
     "execution_count": 4,
     "metadata": {},
     "output_type": "execute_result"
    }
   ],
   "source": [
    "tup1[0]"
   ]
  },
  {
   "cell_type": "code",
   "execution_count": 5,
   "id": "d0d27da3",
   "metadata": {},
   "outputs": [
    {
     "data": {
      "text/plain": [
       "True"
      ]
     },
     "execution_count": 5,
     "metadata": {},
     "output_type": "execute_result"
    }
   ],
   "source": [
    "tup1[-1]"
   ]
  },
  {
   "cell_type": "code",
   "execution_count": 6,
   "id": "37344422",
   "metadata": {},
   "outputs": [
    {
     "data": {
      "text/plain": [
       "(2.4, 'Boy', (3+7j))"
      ]
     },
     "execution_count": 6,
     "metadata": {},
     "output_type": "execute_result"
    }
   ],
   "source": [
    "tup1[1:4]"
   ]
  },
  {
   "cell_type": "markdown",
   "id": "fbbc4c1d",
   "metadata": {},
   "source": [
    "#### Tuple Basic Operations"
   ]
  },
  {
   "cell_type": "code",
   "execution_count": 7,
   "id": "bb514190",
   "metadata": {},
   "outputs": [],
   "source": [
    "#Finding Tuple length"
   ]
  },
  {
   "cell_type": "code",
   "execution_count": 8,
   "id": "70f33bf7",
   "metadata": {},
   "outputs": [
    {
     "data": {
      "text/plain": [
       "5"
      ]
     },
     "execution_count": 8,
     "metadata": {},
     "output_type": "execute_result"
    }
   ],
   "source": [
    "len(tup1)"
   ]
  },
  {
   "cell_type": "code",
   "execution_count": 9,
   "id": "a49b54c4",
   "metadata": {},
   "outputs": [
    {
     "data": {
      "text/plain": [
       "(1, 2, 3, 4, 5, 6)"
      ]
     },
     "execution_count": 9,
     "metadata": {},
     "output_type": "execute_result"
    }
   ],
   "source": [
    "#Concatinating Tuples\n",
    "tup1 = (1,2,3)\n",
    "tup2 = (4,5,6)\n",
    "tup1 + tup2"
   ]
  },
  {
   "cell_type": "code",
   "execution_count": 10,
   "id": "9ae1db83",
   "metadata": {},
   "outputs": [
    {
     "data": {
      "text/plain": [
       "(1, 'boy', 3.1, 3, 'girl', (3+4j))"
      ]
     },
     "execution_count": 10,
     "metadata": {},
     "output_type": "execute_result"
    }
   ],
   "source": [
    "tup1 = (1,'boy',3.1)\n",
    "tup2 = (3,'girl', 3+4j)\n",
    "tup1 + tup2"
   ]
  },
  {
   "cell_type": "code",
   "execution_count": 11,
   "id": "7e862b79",
   "metadata": {},
   "outputs": [
    {
     "data": {
      "text/plain": [
       "(1, 'boy', 3.1, 1, 'boy', 3.1, 1, 'boy', 3.1)"
      ]
     },
     "execution_count": 11,
     "metadata": {},
     "output_type": "execute_result"
    }
   ],
   "source": [
    "#Repeating Tuple\n",
    "tup1*3"
   ]
  },
  {
   "cell_type": "code",
   "execution_count": 12,
   "id": "827227ba",
   "metadata": {},
   "outputs": [
    {
     "data": {
      "text/plain": [
       "(1, 'boy', 3.1, 1, 'boy', 3.1, 1, 'boy', 3.1, 3, 'girl', (3+4j))"
      ]
     },
     "execution_count": 12,
     "metadata": {},
     "output_type": "execute_result"
    }
   ],
   "source": [
    "#Repeating + Concatenating\n",
    "tup1*3+tup2"
   ]
  },
  {
   "cell_type": "markdown",
   "id": "b309e970",
   "metadata": {},
   "source": [
    "#### Tuple Basic Functions"
   ]
  },
  {
   "cell_type": "code",
   "execution_count": 35,
   "id": "fb997924",
   "metadata": {},
   "outputs": [
    {
     "data": {
      "text/plain": [
       "1"
      ]
     },
     "execution_count": 35,
     "metadata": {},
     "output_type": "execute_result"
    }
   ],
   "source": [
    "tup1=(1,3,5)\n",
    "tup2=(2,4,6)\n",
    "min(tup1)"
   ]
  },
  {
   "cell_type": "code",
   "execution_count": null,
   "id": "50b275b7",
   "metadata": {},
   "outputs": [],
   "source": [
    "#Finding Maximum Value"
   ]
  },
  {
   "cell_type": "code",
   "execution_count": 36,
   "id": "1e4c8f6d",
   "metadata": {},
   "outputs": [
    {
     "data": {
      "text/plain": [
       "6"
      ]
     },
     "execution_count": 36,
     "metadata": {},
     "output_type": "execute_result"
    }
   ],
   "source": [
    "max(tup2)"
   ]
  },
  {
   "cell_type": "markdown",
   "id": "c796c70b",
   "metadata": {},
   "source": [
    "### 2. List: Odered collection of elements enclosed within []. Lists are mutable. "
   ]
  },
  {
   "cell_type": "code",
   "execution_count": 67,
   "id": "79c9ca4e",
   "metadata": {},
   "outputs": [
    {
     "data": {
      "text/plain": [
       "[1, 'Boy', 3.2, True]"
      ]
     },
     "execution_count": 67,
     "metadata": {},
     "output_type": "execute_result"
    }
   ],
   "source": [
    "l1 = [1,\"Boy\",3.2, True]\n",
    "l1"
   ]
  },
  {
   "cell_type": "code",
   "execution_count": 68,
   "id": "2c985691",
   "metadata": {},
   "outputs": [
    {
     "data": {
      "text/plain": [
       "list"
      ]
     },
     "execution_count": 68,
     "metadata": {},
     "output_type": "execute_result"
    }
   ],
   "source": [
    "type(l1)"
   ]
  },
  {
   "cell_type": "code",
   "execution_count": 69,
   "id": "5a1f990f",
   "metadata": {},
   "outputs": [
    {
     "data": {
      "text/plain": [
       "3.2"
      ]
     },
     "execution_count": 69,
     "metadata": {},
     "output_type": "execute_result"
    }
   ],
   "source": [
    "l1[2] #calling index"
   ]
  },
  {
   "cell_type": "code",
   "execution_count": 70,
   "id": "d6d3bc6a",
   "metadata": {},
   "outputs": [
    {
     "data": {
      "text/plain": [
       "['Boy', 3.2]"
      ]
     },
     "execution_count": 70,
     "metadata": {},
     "output_type": "execute_result"
    }
   ],
   "source": [
    "l1[1:3]"
   ]
  },
  {
   "cell_type": "markdown",
   "id": "62362a67",
   "metadata": {},
   "source": [
    "#### Modifying a List`"
   ]
  },
  {
   "cell_type": "code",
   "execution_count": 72,
   "id": "7edd6d44",
   "metadata": {},
   "outputs": [],
   "source": [
    "#Changing the element at jth index"
   ]
  },
  {
   "cell_type": "code",
   "execution_count": 73,
   "id": "c3fe8942",
   "metadata": {},
   "outputs": [
    {
     "data": {
      "text/plain": [
       "[100, 'Boy', 3.2, True]"
      ]
     },
     "execution_count": 73,
     "metadata": {},
     "output_type": "execute_result"
    }
   ],
   "source": [
    "l1[0]=100\n",
    "l1"
   ]
  },
  {
   "cell_type": "code",
   "execution_count": 74,
   "id": "3b01b5c8",
   "metadata": {},
   "outputs": [
    {
     "data": {
      "text/plain": [
       "[100, 'Girl', 3.2, True]"
      ]
     },
     "execution_count": 74,
     "metadata": {},
     "output_type": "execute_result"
    }
   ],
   "source": [
    "l1[1]=\"Girl\"\n",
    "l1"
   ]
  },
  {
   "cell_type": "code",
   "execution_count": 81,
   "id": "ed3dec13",
   "metadata": {},
   "outputs": [],
   "source": [
    "#Popping the jth element (Removing the jth element)"
   ]
  },
  {
   "cell_type": "code",
   "execution_count": 76,
   "id": "528a1120",
   "metadata": {},
   "outputs": [
    {
     "data": {
      "text/plain": [
       "True"
      ]
     },
     "execution_count": 76,
     "metadata": {},
     "output_type": "execute_result"
    }
   ],
   "source": [
    "l1.pop()"
   ]
  },
  {
   "cell_type": "code",
   "execution_count": 77,
   "id": "0edeebcd",
   "metadata": {},
   "outputs": [
    {
     "data": {
      "text/plain": [
       "3.2"
      ]
     },
     "execution_count": 77,
     "metadata": {},
     "output_type": "execute_result"
    }
   ],
   "source": [
    "l1.pop(2)"
   ]
  },
  {
   "cell_type": "code",
   "execution_count": 78,
   "id": "a13aee4c",
   "metadata": {},
   "outputs": [
    {
     "data": {
      "text/plain": [
       "[100, 'Girl']"
      ]
     },
     "execution_count": 78,
     "metadata": {},
     "output_type": "execute_result"
    }
   ],
   "source": [
    "l1"
   ]
  },
  {
   "cell_type": "code",
   "execution_count": 79,
   "id": "3ea339af",
   "metadata": {},
   "outputs": [],
   "source": [
    "#Appending a new Element (Inserting in last position)"
   ]
  },
  {
   "cell_type": "code",
   "execution_count": 80,
   "id": "16ab6fbe",
   "metadata": {},
   "outputs": [
    {
     "data": {
      "text/plain": [
       "[100, 'Girl', 'Munni']"
      ]
     },
     "execution_count": 80,
     "metadata": {},
     "output_type": "execute_result"
    }
   ],
   "source": [
    "l1.append(\"Munni\")\n",
    "l1"
   ]
  },
  {
   "cell_type": "code",
   "execution_count": 86,
   "id": "864e11c0",
   "metadata": {},
   "outputs": [
    {
     "data": {
      "text/plain": [
       "[100, 'Boy', 'Girl', 'Munni']"
      ]
     },
     "execution_count": 86,
     "metadata": {},
     "output_type": "execute_result"
    }
   ],
   "source": [
    "#But how to append at jth position? With 'Insert' function\n",
    "l1.insert(1,'Boy')\n",
    "l1"
   ]
  },
  {
   "cell_type": "code",
   "execution_count": null,
   "id": "a0ba3e3b",
   "metadata": {},
   "outputs": [],
   "source": [
    "#Revercing element"
   ]
  },
  {
   "cell_type": "code",
   "execution_count": 84,
   "id": "3b4982ff",
   "metadata": {},
   "outputs": [
    {
     "data": {
      "text/plain": [
       "[3, 2, 1]"
      ]
     },
     "execution_count": 84,
     "metadata": {},
     "output_type": "execute_result"
    }
   ],
   "source": [
    "l3 = [1,2,3]\n",
    "l3.reverse()\n",
    "l3"
   ]
  },
  {
   "cell_type": "code",
   "execution_count": 85,
   "id": "758ea00f",
   "metadata": {},
   "outputs": [
    {
     "data": {
      "text/plain": [
       "['gilr', 3.5, 'apple', 1]"
      ]
     },
     "execution_count": 85,
     "metadata": {},
     "output_type": "execute_result"
    }
   ],
   "source": [
    "l3_1 = [1,\"apple\",3.5,\"gilr\"]\n",
    "l3_1.reverse()\n",
    "l3_1"
   ]
  },
  {
   "cell_type": "code",
   "execution_count": null,
   "id": "639ead8c",
   "metadata": {},
   "outputs": [],
   "source": [
    "#Sorting Element in alphabetical order"
   ]
  },
  {
   "cell_type": "code",
   "execution_count": 88,
   "id": "fcec555d",
   "metadata": {},
   "outputs": [
    {
     "data": {
      "text/plain": [
       "['butter', 'jelly', 'mango', 'rolls']"
      ]
     },
     "execution_count": 88,
     "metadata": {},
     "output_type": "execute_result"
    }
   ],
   "source": [
    "l4 = ['mango', 'jelly','butter','rolls']\n",
    "l4.sort()\n",
    "l4"
   ]
  },
  {
   "cell_type": "markdown",
   "id": "bf081db4",
   "metadata": {},
   "source": [
    "#### List Basic Operation"
   ]
  },
  {
   "cell_type": "code",
   "execution_count": 1,
   "id": "da79cc96",
   "metadata": {},
   "outputs": [
    {
     "data": {
      "text/plain": [
       "[1, 2, 3, 4, 5, 6]"
      ]
     },
     "execution_count": 1,
     "metadata": {},
     "output_type": "execute_result"
    }
   ],
   "source": [
    "#1.Concatinating list\n",
    "l1=[1,2,3]\n",
    "l2=[4,5,6]\n",
    "l1+l2"
   ]
  },
  {
   "cell_type": "code",
   "execution_count": 2,
   "id": "6e14c2cd",
   "metadata": {},
   "outputs": [
    {
     "data": {
      "text/plain": [
       "[1, 'Shila', 3.6, True, 1, 'Shila', 3.6, True, 1, 'Shila', 3.6, True]"
      ]
     },
     "execution_count": 2,
     "metadata": {},
     "output_type": "execute_result"
    }
   ],
   "source": [
    "#Repeating Elements\n",
    "l1 = [1,'Shila',3.6,True]\n",
    "l1*3"
   ]
  },
  {
   "cell_type": "markdown",
   "id": "401e0eef",
   "metadata": {},
   "source": [
    "### 3 . Dictionary: Dictionary is an unordered collection of key-value pairs enclosed within {}.It is mutable."
   ]
  },
  {
   "cell_type": "code",
   "execution_count": 12,
   "id": "aab6a317",
   "metadata": {},
   "outputs": [
    {
     "data": {
      "text/plain": [
       "{'apple': 50, 'mango': 100, 'guava': 200, 'banana': 300}"
      ]
     },
     "execution_count": 12,
     "metadata": {},
     "output_type": "execute_result"
    }
   ],
   "source": [
    "d1 = {\"apple\":50,\"mango\":100,\"guava\":200,\"banana\":300}\n",
    "d1"
   ]
  },
  {
   "cell_type": "code",
   "execution_count": 13,
   "id": "b1b4164f",
   "metadata": {},
   "outputs": [
    {
     "data": {
      "text/plain": [
       "dict"
      ]
     },
     "execution_count": 13,
     "metadata": {},
     "output_type": "execute_result"
    }
   ],
   "source": [
    "type(d1)"
   ]
  },
  {
   "cell_type": "code",
   "execution_count": 14,
   "id": "841a18b9",
   "metadata": {},
   "outputs": [
    {
     "data": {
      "text/plain": [
       "dict_keys(['apple', 'mango', 'guava', 'banana'])"
      ]
     },
     "execution_count": 14,
     "metadata": {},
     "output_type": "execute_result"
    }
   ],
   "source": [
    "d1.keys()"
   ]
  },
  {
   "cell_type": "code",
   "execution_count": 15,
   "id": "4dc63acb",
   "metadata": {},
   "outputs": [
    {
     "data": {
      "text/plain": [
       "dict_values([50, 100, 200, 300])"
      ]
     },
     "execution_count": 15,
     "metadata": {},
     "output_type": "execute_result"
    }
   ],
   "source": [
    "d1.values()"
   ]
  },
  {
   "cell_type": "markdown",
   "id": "c87630bf",
   "metadata": {},
   "source": [
    "#### Modifying a Dictionary"
   ]
  },
  {
   "cell_type": "code",
   "execution_count": 17,
   "id": "cb209aa2",
   "metadata": {},
   "outputs": [
    {
     "data": {
      "text/plain": [
       "{'apple': 50, 'mango': 100, 'guava': 200, 'banana': 300, 'grapes': 150}"
      ]
     },
     "execution_count": 17,
     "metadata": {},
     "output_type": "execute_result"
    }
   ],
   "source": [
    "#Adding a new Element\n",
    "d1[\"grapes\"]=150\n",
    "d1"
   ]
  },
  {
   "cell_type": "code",
   "execution_count": 18,
   "id": "e43b7d5b",
   "metadata": {},
   "outputs": [
    {
     "data": {
      "text/plain": [
       "{'apple': 70, 'mango': 100, 'guava': 200, 'banana': 300, 'grapes': 150}"
      ]
     },
     "execution_count": 18,
     "metadata": {},
     "output_type": "execute_result"
    }
   ],
   "source": [
    "#Changing the value of existing element\n",
    "d1[\"apple\"]=70\n",
    "d1"
   ]
  },
  {
   "cell_type": "markdown",
   "id": "137abe46",
   "metadata": {},
   "source": [
    "#### Dictionary Functions"
   ]
  },
  {
   "cell_type": "code",
   "execution_count": null,
   "id": "d769baa8",
   "metadata": {},
   "outputs": [],
   "source": [
    "#Removing an element"
   ]
  },
  {
   "cell_type": "code",
   "execution_count": 19,
   "id": "6e014c32",
   "metadata": {},
   "outputs": [
    {
     "data": {
      "text/plain": [
       "{'mango': 100, 'guava': 200, 'banana': 300, 'grapes': 150}"
      ]
     },
     "execution_count": 19,
     "metadata": {},
     "output_type": "execute_result"
    }
   ],
   "source": [
    "d1.pop(\"apple\")\n",
    "d1"
   ]
  },
  {
   "cell_type": "code",
   "execution_count": 21,
   "id": "98e2777d",
   "metadata": {},
   "outputs": [
    {
     "data": {
      "text/plain": [
       "{'apple': 10, 'banana': 20, 'guava': 30, 'grapes': 40}"
      ]
     },
     "execution_count": 21,
     "metadata": {},
     "output_type": "execute_result"
    }
   ],
   "source": [
    "#Upadte one dictionar's element with other\n",
    "d2={\"apple\":10,\"banana\":20}\n",
    "d3={\"guava\":30,\"grapes\":40}\n",
    "d2.update(d3)\n",
    "d2"
   ]
  },
  {
   "cell_type": "markdown",
   "id": "2fb478fc",
   "metadata": {},
   "source": [
    "### 4. Set: set is an unordered, unindexed collection of elements enclosed within{}. unordered unindexed means that when you would print the elemnts, they would get printed in random fashion because in a 'Set' the elments has no index."
   ]
  },
  {
   "cell_type": "markdown",
   "id": "548a5d46",
   "metadata": {},
   "source": [
    "#### Duplicated are not allowed in sets"
   ]
  },
  {
   "cell_type": "code",
   "execution_count": 55,
   "id": "43848cda",
   "metadata": {},
   "outputs": [
    {
     "data": {
      "text/plain": [
       "{1, 3.4, 'Boy', False}"
      ]
     },
     "execution_count": 55,
     "metadata": {},
     "output_type": "execute_result"
    }
   ],
   "source": [
    "s1={1,\"Boy\",False,3.4}\n",
    "s1"
   ]
  },
  {
   "cell_type": "code",
   "execution_count": 56,
   "id": "8638f867",
   "metadata": {},
   "outputs": [],
   "source": [
    "#See, the above ouput is random"
   ]
  },
  {
   "cell_type": "code",
   "execution_count": 57,
   "id": "f0dca768",
   "metadata": {},
   "outputs": [
    {
     "data": {
      "text/plain": [
       "set"
      ]
     },
     "execution_count": 57,
     "metadata": {},
     "output_type": "execute_result"
    }
   ],
   "source": [
    "type(s1)"
   ]
  },
  {
   "cell_type": "code",
   "execution_count": 21,
   "id": "63d1764e",
   "metadata": {},
   "outputs": [
    {
     "data": {
      "text/plain": [
       "{1, 'Boy', False}"
      ]
     },
     "execution_count": 21,
     "metadata": {},
     "output_type": "execute_result"
    }
   ],
   "source": [
    "#Try to add duplicate element\n",
    "s1 = {1,\"Boy\",False,\"Boy\"}\n",
    "s1"
   ]
  },
  {
   "cell_type": "code",
   "execution_count": 22,
   "id": "d4e460e9",
   "metadata": {},
   "outputs": [],
   "source": [
    "#\"Boy\" got printed only once, hence duplicates are not allowd in set."
   ]
  },
  {
   "cell_type": "markdown",
   "id": "64970338",
   "metadata": {},
   "source": [
    "#### Set Operation"
   ]
  },
  {
   "cell_type": "code",
   "execution_count": 23,
   "id": "5b0c47d0",
   "metadata": {},
   "outputs": [
    {
     "data": {
      "text/plain": [
       "{1, 3.4, 'Boy', False}"
      ]
     },
     "execution_count": 23,
     "metadata": {},
     "output_type": "execute_result"
    }
   ],
   "source": [
    "#Adding new element\n",
    "s1.add(3.4) #ads at random index.\n",
    "s1"
   ]
  },
  {
   "cell_type": "code",
   "execution_count": 25,
   "id": "13d6fd32",
   "metadata": {},
   "outputs": [
    {
     "data": {
      "text/plain": [
       "{1, 2, 3.4, 4, 6, 9.6, 'Boy', False, 'Girl'}"
      ]
     },
     "execution_count": 25,
     "metadata": {},
     "output_type": "execute_result"
    }
   ],
   "source": [
    "#Adding multiple elemnts\n",
    "s1.update([2,4,6,\"Girl\", True,9.6])\n",
    "s1"
   ]
  },
  {
   "cell_type": "code",
   "execution_count": 63,
   "id": "91d80a95",
   "metadata": {},
   "outputs": [
    {
     "data": {
      "text/plain": [
       "{1, 2, 3.4, 4, 6, 9.6, 'Boy', False}"
      ]
     },
     "execution_count": 63,
     "metadata": {},
     "output_type": "execute_result"
    }
   ],
   "source": [
    "#Removing an element\n",
    "s1.remove(\"Girl\")\n",
    "s1"
   ]
  },
  {
   "cell_type": "code",
   "execution_count": 64,
   "id": "5d4bbe02",
   "metadata": {},
   "outputs": [
    {
     "data": {
      "text/plain": [
       "{100, 900}"
      ]
     },
     "execution_count": 64,
     "metadata": {},
     "output_type": "execute_result"
    }
   ],
   "source": [
    "s2={900,100}\n",
    "s2"
   ]
  },
  {
   "cell_type": "code",
   "execution_count": 65,
   "id": "c7417092",
   "metadata": {},
   "outputs": [
    {
     "data": {
      "text/plain": [
       "{1, 100, 2, 3.4, 4, 6, 9.6, 900, 'Boy', False}"
      ]
     },
     "execution_count": 65,
     "metadata": {},
     "output_type": "execute_result"
    }
   ],
   "source": [
    "s1.update(s2)\n",
    "s1"
   ]
  },
  {
   "cell_type": "code",
   "execution_count": 66,
   "id": "bdf5494d",
   "metadata": {},
   "outputs": [
    {
     "data": {
      "text/plain": [
       "{100, 900}"
      ]
     },
     "execution_count": 66,
     "metadata": {},
     "output_type": "execute_result"
    }
   ],
   "source": [
    "s2"
   ]
  },
  {
   "cell_type": "code",
   "execution_count": 67,
   "id": "c71b2979",
   "metadata": {},
   "outputs": [
    {
     "data": {
      "text/plain": [
       "{1, 100, 2, 3.4, 4, 6, 9.6, 900, 'Boy', False}"
      ]
     },
     "execution_count": 67,
     "metadata": {},
     "output_type": "execute_result"
    }
   ],
   "source": [
    "s1"
   ]
  },
  {
   "cell_type": "markdown",
   "id": "cbd91737",
   "metadata": {},
   "source": [
    "#### Set Function"
   ]
  },
  {
   "cell_type": "code",
   "execution_count": 69,
   "id": "d043991d",
   "metadata": {},
   "outputs": [
    {
     "data": {
      "text/plain": [
       "{1, 100, 2, 3.4, 4, 6, 9.6, 900, 'Boy', False}"
      ]
     },
     "execution_count": 69,
     "metadata": {},
     "output_type": "execute_result"
    }
   ],
   "source": [
    "s1.union(s2)"
   ]
  },
  {
   "cell_type": "code",
   "execution_count": 70,
   "id": "cef616ee",
   "metadata": {},
   "outputs": [
    {
     "data": {
      "text/plain": [
       "{100, 900}"
      ]
     },
     "execution_count": 70,
     "metadata": {},
     "output_type": "execute_result"
    }
   ],
   "source": [
    "s2"
   ]
  },
  {
   "cell_type": "code",
   "execution_count": null,
   "id": "4a133473",
   "metadata": {},
   "outputs": [],
   "source": [
    "#It seems that 'union' works similar to 'update'!"
   ]
  },
  {
   "cell_type": "code",
   "execution_count": 2,
   "id": "8ce6075b",
   "metadata": {},
   "outputs": [
    {
     "data": {
      "text/plain": [
       "{2, 4}"
      ]
     },
     "execution_count": 2,
     "metadata": {},
     "output_type": "execute_result"
    }
   ],
   "source": [
    "#Intersection of sets:To find the common elemnts between sets\n",
    "set1 = {1,2,3,4,5}\n",
    "set2 = {9,8,2,4,7}\n",
    "set1.intersection(set2)"
   ]
  }
 ],
 "metadata": {
  "kernelspec": {
   "display_name": "Python 3",
   "language": "python",
   "name": "python3"
  },
  "language_info": {
   "codemirror_mode": {
    "name": "ipython",
    "version": 3
   },
   "file_extension": ".py",
   "mimetype": "text/x-python",
   "name": "python",
   "nbconvert_exporter": "python",
   "pygments_lexer": "ipython3",
   "version": "3.8.8"
  }
 },
 "nbformat": 4,
 "nbformat_minor": 5
}
