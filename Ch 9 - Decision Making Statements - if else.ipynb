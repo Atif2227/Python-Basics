{
 "cells": [
  {
   "cell_type": "markdown",
   "id": "26d87dce",
   "metadata": {},
   "source": [
    "# Decision Making Statements"
   ]
  },
  {
   "cell_type": "markdown",
   "id": "1bf2b997",
   "metadata": {},
   "source": [
    "## if"
   ]
  },
  {
   "cell_type": "markdown",
   "id": "d0b23e64",
   "metadata": {},
   "source": [
    "if Pseudo Code\n",
    "\n",
    "if(Condition){\n",
    "    Statement to be executed\n",
    "}\n",
    "else{Statement to be executed\n",
    "   }"
   ]
  },
  {
   "cell_type": "code",
   "execution_count": 4,
   "id": "819ccc43",
   "metadata": {},
   "outputs": [
    {
     "name": "stdout",
     "output_type": "stream",
     "text": [
      "Enter a number for A - \n",
      "2\n",
      "Enter a number for B - \n",
      "3\n",
      "b is greater than a\n"
     ]
    }
   ],
   "source": [
    "print(\"Enter a number for A - \")\n",
    "a = int(input())\n",
    "print(\"Enter a number for B - \")\n",
    "b = int(input())\n",
    "if a>b:\n",
    "    print(\"a is greater than b\")\n",
    "else:\n",
    "    print(\"b is greater than a\")"
   ]
  },
  {
   "cell_type": "code",
   "execution_count": 5,
   "id": "a5fa2dd3",
   "metadata": {},
   "outputs": [
    {
     "name": "stdout",
     "output_type": "stream",
     "text": [
      "Enter a number for A - 2\n",
      "Enter a number for B - 3\n",
      "b is greater than a\n"
     ]
    }
   ],
   "source": [
    "# Above example - user asked for input\n",
    "a = int(input(\"Enter a number for A - \"))\n",
    "b = int(input(\"Enter a number for B - \"))\n",
    "if a>b:\n",
    "    print(\"a is greater than b\")\n",
    "else:\n",
    "    print(\"b is greater than a\")"
   ]
  },
  {
   "cell_type": "code",
   "execution_count": 18,
   "id": "fc45217d",
   "metadata": {},
   "outputs": [],
   "source": [
    "c=30"
   ]
  },
  {
   "cell_type": "code",
   "execution_count": 29,
   "id": "d2f05493",
   "metadata": {},
   "outputs": [
    {
     "name": "stdout",
     "output_type": "stream",
     "text": [
      "c is greater\n"
     ]
    }
   ],
   "source": [
    "if a>b:\n",
    "    print(\"a is greater than b\")\n",
    "elif (b>a & b>c):\n",
    "    print(\"b is greater than a\")\n",
    "else :\n",
    "    print(\"c is greater\")\n"
   ]
  },
  {
   "cell_type": "code",
   "execution_count": null,
   "id": "c237766e",
   "metadata": {},
   "outputs": [],
   "source": [
    "# if with tuple"
   ]
  },
  {
   "cell_type": "code",
   "execution_count": 4,
   "id": "ffc6a23c",
   "metadata": {},
   "outputs": [
    {
     "name": "stdout",
     "output_type": "stream",
     "text": [
      "a is present in tup1\n"
     ]
    }
   ],
   "source": [
    "tup1 = ('a','b','c')\n",
    "if 'a' in tup1:\n",
    "    print(\"a is present in tup1\")"
   ]
  },
  {
   "cell_type": "code",
   "execution_count": 7,
   "id": "ae793ae3",
   "metadata": {},
   "outputs": [
    {
     "name": "stdout",
     "output_type": "stream",
     "text": [
      "z is not present in tup1\n"
     ]
    }
   ],
   "source": [
    "tup1 = ('a','b','c')\n",
    "if 'z' in tup1:\n",
    "    print(\"z is present in tup1\")\n",
    "else:\n",
    "    print(\"z is not present in tup1\")"
   ]
  },
  {
   "cell_type": "code",
   "execution_count": null,
   "id": "813aa27f",
   "metadata": {},
   "outputs": [],
   "source": [
    "#if with List"
   ]
  },
  {
   "cell_type": "code",
   "execution_count": 13,
   "id": "12586fbd",
   "metadata": {},
   "outputs": [
    {
     "name": "stdout",
     "output_type": "stream",
     "text": [
      "['a', 'z', 'c']\n"
     ]
    }
   ],
   "source": [
    "l1=['a','b','c']\n",
    "if l1[1]=='b':\n",
    "    l1[1]='z'\n",
    "    print (l1)"
   ]
  },
  {
   "cell_type": "code",
   "execution_count": null,
   "id": "173f523f",
   "metadata": {},
   "outputs": [],
   "source": [
    "#if with Dictionary"
   ]
  },
  {
   "cell_type": "code",
   "execution_count": 22,
   "id": "10312c91",
   "metadata": {},
   "outputs": [
    {
     "name": "stdout",
     "output_type": "stream",
     "text": [
      "{'k1': 10, 'k2': 20, 'k3': 130}\n"
     ]
    }
   ],
   "source": [
    "d1 = {'k1':10,'k2':20,'k3':30}\n",
    "if d1['k3'] == 30:\n",
    "    d1['k3'] = d1['k3']+100\n",
    "    print(d1)"
   ]
  }
 ],
 "metadata": {
  "kernelspec": {
   "display_name": "Python 3",
   "language": "python",
   "name": "python3"
  },
  "language_info": {
   "codemirror_mode": {
    "name": "ipython",
    "version": 3
   },
   "file_extension": ".py",
   "mimetype": "text/x-python",
   "name": "python",
   "nbconvert_exporter": "python",
   "pygments_lexer": "ipython3",
   "version": "3.8.8"
  }
 },
 "nbformat": 4,
 "nbformat_minor": 5
}
